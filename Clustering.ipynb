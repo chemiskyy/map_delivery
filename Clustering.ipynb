{
 "cells": [
  {
   "cell_type": "markdown",
   "metadata": {},
   "source": [
    "# Livraisons à domicile\n",
    "\n",
    "Ce fichier contient plusieurs étapes\n",
    "1. import de librairies essentielles\n",
    "2. Insertion du fichier csv de clients pour livraison\n",
    "3. Détermination de la position gps (geocoding)\n",
    "3. Traitement du fichier et des doublons\n",
    "4. Mise en place sur une carte\n",
    "\n",
    "### Pour déterminer l'ordre des livraisons il faut ajouter l'adresse ci-dessous de la livraison\n",
    "\n",
    "#### Il est important de laisser les guillements simples '' de part et d'autre des noms\n",
    "-----"
   ]
  },
  {
   "cell_type": "code",
   "execution_count": 14,
   "metadata": {
    "nteract": {
     "transient": {
      "deleting": false
     }
    },
    "outputExpanded": false
   },
   "outputs": [],
   "source": [
    "Nom_Magasin = 'MAGASIN'\n",
    "Prenom_Magasin = 'QUIVABIEN'\n",
    "Adresse_Magasin = '71, en Fournirue'\n",
    "CP_Magasin = 57000\n",
    "Ville_Magasin = 'Metz'"
   ]
  },
  {
   "cell_type": "markdown",
   "metadata": {
    "nteract": {
     "transient": {
      "deleting": false
     }
    }
   },
   "source": [
    "---\n",
    "\n",
    "Il faut ensuite modifier si besoin le nom du fichier .csv \n",
    "Pour le moment le fichier est \"test.csv\" qui "
   ]
  },
  {
   "cell_type": "code",
   "execution_count": 15,
   "metadata": {
    "nteract": {
     "transient": {
      "deleting": false
     }
    },
    "outputExpanded": false
   },
   "outputs": [],
   "source": [
    "fichier = 'test.csv'"
   ]
  },
  {
   "cell_type": "markdown",
   "metadata": {
    "nteract": {
     "transient": {
      "deleting": false
     }
    }
   },
   "source": [
    "---"
   ]
  },
  {
   "cell_type": "code",
   "execution_count": 16,
   "metadata": {},
   "outputs": [],
   "source": [
    "#qgrid.nbinstall(overwrite=True)\n",
    "import pylab\n",
    "import qgrid\n",
    "import pandas as pd\n",
    "import geopandas as gpd\n",
    "import geopy\n",
    "from geopy.geocoders import Nominatim, GoogleV3, IGNFrance, BANFrance\n",
    "from geopy.extra.rate_limiter import RateLimiter\n",
    "import matplotlib.pyplot as plt\n",
    "import folium\n",
    "from folium import plugins, IFrame\n",
    "from folium.features import *\n",
    "\n",
    "import random\n",
    "import csv\n",
    "import simplekml\n",
    "\n",
    "from pyroutelib3 import Router\n",
    "import numpy as np\n",
    "\n",
    "from scipy.spatial import distance_matrix\n",
    "from scipy.spatial.distance import cdist\n",
    "from scipy.sparse.csgraph import shortest_path\n",
    "\n",
    "from tsp_solver.greedy import solve_tsp\n",
    "from ipywidgets import interact, interactive, fixed, widgets\n",
    "from IPython.display import display\n",
    "\n",
    "pylab.rcParams['figure.figsize'] = (24.0, 12.0) #configure the figure\n",
    "\n",
    "def lon_lat_to_xy(lon, lat, R = 6371000.0):\n",
    "    \"\"\"\n",
    "    calculates lon, lat coordinates of a point on a sphere with\n",
    "    radius R\n",
    "    \"\"\"\n",
    "    lon_r = np.radians(lon)\n",
    "    lat_r = np.radians(lat)\n",
    "\n",
    "    x =  R * np.cos(lat_r[0]) * lon_r\n",
    "    y = R * lat_r\n",
    "    return x,y\n",
    "\n",
    "def get_distance(routeLatLons):\n",
    "    \n",
    "    data = []\n",
    "    for iter, point in enumerate(routeLatLons):\n",
    "        data.append([point[0], point[1]])\n",
    "    \n",
    "    columns = ['Latitude', 'Longitude']\n",
    "    temp = pd.DataFrame(data, columns=columns)\n",
    "    \n",
    "    x_temp,y_temp = lon_lat_to_xy(temp['Longitude'], temp['Latitude'], R = 6371000.0)\n",
    "    x = x_temp - x_temp[0]\n",
    "    y = y_temp - y_temp[0]\n",
    "    d_x = np.diff(x)\n",
    "    d_y = np.diff(y)\n",
    "    ds = np.sqrt(d_x*d_x + d_y*d_y) \n",
    "    return np.sum(ds)"
   ]
  },
  {
   "cell_type": "markdown",
   "metadata": {
    "nteract": {
     "transient": {
      "deleting": false
     }
    }
   },
   "source": [
    "On effectue le geocoding dans la cellule suivante"
   ]
  },
  {
   "cell_type": "code",
   "execution_count": 17,
   "metadata": {
    "nteract": {
     "transient": {
      "deleting": false
     }
    },
    "outputExpanded": false
   },
   "outputs": [],
   "source": [
    "pt_depart = pd.DataFrame({'N' : 0, 'Type':['L'], 'Nom':[Nom_Magasin], 'Prenom':[Prenom_Magasin], 'Adresse':[Adresse_Magasin], 'CP':[CP_Magasin], 'Ville':[Ville_Magasin], \"Qte_totale\":['1000000'], 'Tel' : ['06660'], 'Commentaires' :['']})\n",
    "\n",
    "#On affiche l'adresse totale\n",
    "pt_depart['addresse_tot'] = pt_depart['Adresse'].astype(str) + ',' + \\\n",
    "                pt_depart['CP'].astype(str) + ',' + \\\n",
    "                pt_depart['Ville'].astype(str) + ', France'\n",
    "\n",
    "locator = BANFrance()\n",
    "geocode = RateLimiter(locator.geocode, min_delay_seconds=0.1)\n",
    "pt_depart['location'] = pt_depart['addresse_tot'].apply(geocode)\n",
    "#On rajoute un point avec des valeurs nulles\n",
    "pt_depart['point'] = pt_depart['location'].apply(lambda loc: tuple(loc.point) if loc else None)\n",
    "\n",
    "#On sépare ensuite l'objet point en latitude, longitude et altitude\n",
    "pt_depart[['latitude', 'longitude', 'altitude']] = pd.DataFrame(pt_depart['point'].tolist(), index=pt_depart.index)"
   ]
  },
  {
   "cell_type": "code",
   "execution_count": 5,
   "metadata": {
    "nteract": {
     "transient": {
      "deleting": false
     }
    },
    "outputExpanded": false
   },
   "outputs": [
    {
     "data": {
      "application/vnd.jupyter.widget-view+json": {
       "model_id": "949aea25506a4737819adc4902b9fd9e",
       "version_major": 2,
       "version_minor": 0
      },
      "text/plain": [
       "QgridWidget(grid_options={'fullWidthRows': True, 'syncColumnCellResize': True, 'forceFitColumns': True, 'defau…"
      ]
     },
     "metadata": {},
     "output_type": "display_data"
    }
   ],
   "source": [
    "df = pd.read_csv(fichier, sep=';')\n",
    "df.head(5)\n",
    "df.columns\n",
    "df.dropna(subset=['N'], inplace=True)\n",
    "df['Type'] = df['Type'].str.lower()\n",
    "df['N'] = df['N'].astype('int')\n",
    "df['Tel'] = df['Tel'].astype('str')\n",
    "df['Tel'] = df['Tel'].str.replace(' ','')\n",
    "df['Tel'] = df['Tel'].astype('int')\n",
    "df['Qte_totale'] = df['Qte_totale'].astype('int')\n",
    "df['Commentaires'] = df['Commentaires'].replace(np.nan, '', regex=True)\n",
    "df['Type'] = df['Type'].apply(lambda x: x[0])\n",
    "\n",
    "liv = df.loc[df['Type'] == 'l']\n",
    "liv = liv.copy(deep=True)\n",
    "try:\n",
    "    groupes = pd.read_csv(\"groupes.csv\", sep=';')\n",
    "    liv = liv.merge(groupes, how='left').fillna(0)\n",
    "except:\n",
    "    liv['Groupe'] = 1\n",
    "liv['Groupe'] = liv['Groupe'].astype('int')\n",
    "\n",
    "qgrid_widget = qgrid.show_grid(liv)\n",
    "qgrid_widget"
   ]
  },
  {
   "cell_type": "code",
   "execution_count": 6,
   "metadata": {},
   "outputs": [
    {
     "data": {
      "text/html": [
       "<div>\n",
       "<style scoped>\n",
       "    .dataframe tbody tr th:only-of-type {\n",
       "        vertical-align: middle;\n",
       "    }\n",
       "\n",
       "    .dataframe tbody tr th {\n",
       "        vertical-align: top;\n",
       "    }\n",
       "\n",
       "    .dataframe thead th {\n",
       "        text-align: right;\n",
       "    }\n",
       "</style>\n",
       "<table border=\"1\" class=\"dataframe\">\n",
       "  <thead>\n",
       "    <tr style=\"text-align: right;\">\n",
       "      <th></th>\n",
       "      <th>N</th>\n",
       "      <th>Type</th>\n",
       "      <th>Commentaires</th>\n",
       "      <th>Prenom</th>\n",
       "      <th>Nom</th>\n",
       "      <th>Tel</th>\n",
       "      <th>Adresse</th>\n",
       "      <th>Ville</th>\n",
       "      <th>CP</th>\n",
       "      <th>Qte_totale</th>\n",
       "      <th>Groupe</th>\n",
       "      <th>addresse_tot</th>\n",
       "      <th>location</th>\n",
       "      <th>point</th>\n",
       "      <th>latitude</th>\n",
       "      <th>longitude</th>\n",
       "      <th>altitude</th>\n",
       "    </tr>\n",
       "  </thead>\n",
       "  <tbody>\n",
       "    <tr>\n",
       "      <th>0</th>\n",
       "      <td>1419</td>\n",
       "      <td>l</td>\n",
       "      <td>code 0849</td>\n",
       "      <td>Martin</td>\n",
       "      <td>Pêcheur</td>\n",
       "      <td>642905254</td>\n",
       "      <td>25 rue Bellevue</td>\n",
       "      <td>Montigny-les-Metz</td>\n",
       "      <td>57950</td>\n",
       "      <td>24</td>\n",
       "      <td>2</td>\n",
       "      <td>25 rue Bellevue, 57950, Montigny-les-Metz, France</td>\n",
       "      <td>(25 Rue Bellevue 57950 Montigny-lès-Metz, (49....</td>\n",
       "      <td>(49.102401, 6.143209, 0.0)</td>\n",
       "      <td>49.102401</td>\n",
       "      <td>6.143209</td>\n",
       "      <td>0.0</td>\n",
       "    </tr>\n",
       "    <tr>\n",
       "      <th>1</th>\n",
       "      <td>1420</td>\n",
       "      <td>l</td>\n",
       "      <td></td>\n",
       "      <td>John</td>\n",
       "      <td>LENNON</td>\n",
       "      <td>639098802</td>\n",
       "      <td>5 rue du Moyen Pont</td>\n",
       "      <td>METZ</td>\n",
       "      <td>57000</td>\n",
       "      <td>12</td>\n",
       "      <td>1</td>\n",
       "      <td>5 rue du Moyen Pont, 57000, METZ, France</td>\n",
       "      <td>(Rue du Moyen Pont 57000 Metz, (49.119108, 6.1...</td>\n",
       "      <td>(49.119108, 6.171286, 0.0)</td>\n",
       "      <td>49.119108</td>\n",
       "      <td>6.171286</td>\n",
       "      <td>0.0</td>\n",
       "    </tr>\n",
       "    <tr>\n",
       "      <th>2</th>\n",
       "      <td>1421</td>\n",
       "      <td>l</td>\n",
       "      <td></td>\n",
       "      <td>Lemmy</td>\n",
       "      <td>KILMEISTER</td>\n",
       "      <td>666097562</td>\n",
       "      <td>32, rue de Metz</td>\n",
       "      <td>BOUSSE</td>\n",
       "      <td>57310</td>\n",
       "      <td>12</td>\n",
       "      <td>0</td>\n",
       "      <td>32, rue de Metz, 57310, BOUSSE, France</td>\n",
       "      <td>(32 Rue de Metz 57310 Bousse, (49.267948, 6.20...</td>\n",
       "      <td>(49.267948, 6.201441, 0.0)</td>\n",
       "      <td>49.267948</td>\n",
       "      <td>6.201441</td>\n",
       "      <td>0.0</td>\n",
       "    </tr>\n",
       "    <tr>\n",
       "      <th>3</th>\n",
       "      <td>1422</td>\n",
       "      <td>l</td>\n",
       "      <td></td>\n",
       "      <td>Johnny</td>\n",
       "      <td>CASH</td>\n",
       "      <td>622134456</td>\n",
       "      <td>6, rue des trois Évêchés</td>\n",
       "      <td>METZ</td>\n",
       "      <td>57070</td>\n",
       "      <td>12</td>\n",
       "      <td>2</td>\n",
       "      <td>6, rue des trois Évêchés, 57070, METZ, France</td>\n",
       "      <td>(6 Rue des Trois Evêchés 57070 Metz, (49.10970...</td>\n",
       "      <td>(49.109708, 6.188734, 0.0)</td>\n",
       "      <td>49.109708</td>\n",
       "      <td>6.188734</td>\n",
       "      <td>0.0</td>\n",
       "    </tr>\n",
       "    <tr>\n",
       "      <th>4</th>\n",
       "      <td>1422</td>\n",
       "      <td>l</td>\n",
       "      <td></td>\n",
       "      <td>La</td>\n",
       "      <td>RACLURE</td>\n",
       "      <td>612844564</td>\n",
       "      <td>4 rue Turgot</td>\n",
       "      <td>METZ</td>\n",
       "      <td>57070</td>\n",
       "      <td>24</td>\n",
       "      <td>2</td>\n",
       "      <td>4 rue Turgot, 57070, METZ, France</td>\n",
       "      <td>(4 Rue Turgot 57070 Metz, (49.109899, 6.187905))</td>\n",
       "      <td>(49.109899, 6.187905, 0.0)</td>\n",
       "      <td>49.109899</td>\n",
       "      <td>6.187905</td>\n",
       "      <td>0.0</td>\n",
       "    </tr>\n",
       "  </tbody>\n",
       "</table>\n",
       "</div>"
      ],
      "text/plain": [
       "      N Type Commentaires  Prenom         Nom        Tel  \\\n",
       "0  1419    l    code 0849  Martin     Pêcheur  642905254   \n",
       "1  1420    l                 John      LENNON  639098802   \n",
       "2  1421    l                Lemmy  KILMEISTER  666097562   \n",
       "3  1422    l               Johnny        CASH  622134456   \n",
       "4  1422    l                   La     RACLURE  612844564   \n",
       "\n",
       "                    Adresse              Ville     CP  Qte_totale  Groupe  \\\n",
       "0           25 rue Bellevue  Montigny-les-Metz  57950          24       2   \n",
       "1       5 rue du Moyen Pont               METZ  57000          12       1   \n",
       "2           32, rue de Metz             BOUSSE  57310          12       0   \n",
       "3  6, rue des trois Évêchés               METZ  57070          12       2   \n",
       "4              4 rue Turgot               METZ  57070          24       2   \n",
       "\n",
       "                                        addresse_tot  \\\n",
       "0  25 rue Bellevue, 57950, Montigny-les-Metz, France   \n",
       "1           5 rue du Moyen Pont, 57000, METZ, France   \n",
       "2             32, rue de Metz, 57310, BOUSSE, France   \n",
       "3      6, rue des trois Évêchés, 57070, METZ, France   \n",
       "4                  4 rue Turgot, 57070, METZ, France   \n",
       "\n",
       "                                            location  \\\n",
       "0  (25 Rue Bellevue 57950 Montigny-lès-Metz, (49....   \n",
       "1  (Rue du Moyen Pont 57000 Metz, (49.119108, 6.1...   \n",
       "2  (32 Rue de Metz 57310 Bousse, (49.267948, 6.20...   \n",
       "3  (6 Rue des Trois Evêchés 57070 Metz, (49.10970...   \n",
       "4   (4 Rue Turgot 57070 Metz, (49.109899, 6.187905))   \n",
       "\n",
       "                        point   latitude  longitude  altitude  \n",
       "0  (49.102401, 6.143209, 0.0)  49.102401   6.143209       0.0  \n",
       "1  (49.119108, 6.171286, 0.0)  49.119108   6.171286       0.0  \n",
       "2  (49.267948, 6.201441, 0.0)  49.267948   6.201441       0.0  \n",
       "3  (49.109708, 6.188734, 0.0)  49.109708   6.188734       0.0  \n",
       "4  (49.109899, 6.187905, 0.0)  49.109899   6.187905       0.0  "
      ]
     },
     "execution_count": 6,
     "metadata": {},
     "output_type": "execute_result"
    }
   ],
   "source": [
    "#On affiche l'adresse totale\n",
    "liv['addresse_tot'] = liv['Adresse'].astype(str) + ', ' + \\\n",
    "                liv['CP'].astype(str) + ', ' + \\\n",
    "                liv['Ville'].astype(str) + ', France'   \n",
    "\n",
    "#En utilisant un $locator de geopy, on trouve l'adresse et la position\n",
    "locator = BANFrance()\n",
    "geocode = RateLimiter(locator.geocode, min_delay_seconds=0.1)\n",
    "liv['location'] = liv['addresse_tot'].apply(geocode)\n",
    "#On rajoute un point avec des valeurs nulles\n",
    "liv['point'] = liv['location'].apply(lambda loc: tuple(loc.point) if loc else None)\n",
    "\n",
    "#On sépare ensuite l'objet point en latitude, longitude et altitude\n",
    "liv[['latitude', 'longitude', 'altitude']] = pd.DataFrame(liv['point'].tolist(), index=liv.index)\n",
    "liv"
   ]
  },
  {
   "cell_type": "code",
   "execution_count": 7,
   "metadata": {},
   "outputs": [
    {
     "name": "stdout",
     "output_type": "stream",
     "text": [
      "Empty DataFrame\n",
      "Columns: [N, Type, Commentaires, Prenom, Nom, Tel, Adresse, Ville, CP, Qte_totale, Groupe, addresse_tot, location, point, latitude, longitude, altitude, index, addresse_BAN]\n",
      "Index: []\n"
     ]
    }
   ],
   "source": [
    "#On ajoute l'adresse exacte dans un champ \n",
    "liv['index'] = np.arange(len(liv))\n",
    "liv['addresse_BAN'] = liv.location.astype(str)\n",
    "liv['addresse_BAN'] = liv['addresse_BAN'].str.split(',', n = 1)\n",
    "liv.addresse_BAN = liv.addresse_BAN.str[0]\n",
    "#On sépare les commandes\n",
    "liv.addresse_BAN[liv.addresse_BAN.duplicated()].head()\n",
    "liv['Prenom'].fillna('', inplace=True)\n",
    "\n",
    "#dupli = df.duplicated(['addresse_BAN'])\n",
    "dupli = liv[liv.duplicated(['Nom', 'addresse_BAN'], keep=False)]\n",
    "\n",
    "df2 = liv.groupby(['Nom','addresse_BAN'], as_index=False)[[\"Qte_totale\"]].sum()\n",
    "df3 = liv.drop_duplicates(subset =['Nom','addresse_BAN'], keep =\"first\", inplace = False)\n",
    "mergedDf = df2.merge(df3[['index','Nom','Prenom','Adresse','CP','Ville','addresse_BAN','Tel','Commentaires','latitude', 'longitude','Qte_totale','Groupe']], on=['Nom','addresse_BAN','Qte_totale'])\n",
    "\n",
    "mergedDf.sort_values(['index'], ascending=1, inplace=True)\n",
    "mergedDf.reset_index(drop=True, inplace=True)\n",
    "\n",
    "print(dupli)"
   ]
  },
  {
   "cell_type": "code",
   "execution_count": 8,
   "metadata": {},
   "outputs": [],
   "source": [
    "pt_depart['x'], pt_depart['y'] = lon_lat_to_xy(pt_depart['longitude'], pt_depart['latitude'], R = 6371000.0)\n",
    "mergedDf['x'], mergedDf['y'] = lon_lat_to_xy(mergedDf['longitude'], mergedDf['latitude'], R = 6371000.0)\n",
    "df_array = mergedDf[['x', 'y']].to_numpy()\n",
    "dist_map = cdist(df_array, df_array)\n",
    "pd.DataFrame(dist_map)[0].values\n",
    "to_drop = np.argwhere(pd.DataFrame(dist_map)[0].values > 1.E5)\n",
    "\n",
    "#df_lat_nulle = mergedDf[mergedDf['latitude'].isnull()]\n",
    "df_lat_nulle = mergedDf[mergedDf['latitude'].isna()]\n",
    "for value in to_drop.flatten():\n",
    "    value_int = int(value)\n",
    "    df_lat_nulle = df_lat_nulle.append(mergedDf.iloc[value_int]) \n",
    "    #mergedDf.drop([value_int])       \n",
    "\n",
    "df_lat_nulle.drop_duplicates(subset ='addresse_BAN', keep =\"first\", inplace = True)\n",
    "\n",
    "final_client = pd.concat([mergedDf, df_lat_nulle,df_lat_nulle]).drop_duplicates(keep=False)\n",
    "df_lat_nulle.to_csv('clients_erreur.csv', sep=';')\n",
    "final_client.to_csv('clients_correct.csv', sep=';')\n",
    "\n",
    "#final_client['commande'] = final_client[['Qté totale']].apply(lambda x: x%3, axis=1)"
   ]
  },
  {
   "cell_type": "code",
   "execution_count": 9,
   "metadata": {},
   "outputs": [
    {
     "data": {
      "text/html": [
       "<div>\n",
       "<style scoped>\n",
       "    .dataframe tbody tr th:only-of-type {\n",
       "        vertical-align: middle;\n",
       "    }\n",
       "\n",
       "    .dataframe tbody tr th {\n",
       "        vertical-align: top;\n",
       "    }\n",
       "\n",
       "    .dataframe thead th {\n",
       "        text-align: right;\n",
       "    }\n",
       "</style>\n",
       "<table border=\"1\" class=\"dataframe\">\n",
       "  <thead>\n",
       "    <tr style=\"text-align: right;\">\n",
       "      <th></th>\n",
       "      <th>Nom</th>\n",
       "      <th>addresse_BAN</th>\n",
       "      <th>Qte_totale</th>\n",
       "      <th>index</th>\n",
       "      <th>Prenom</th>\n",
       "      <th>Adresse</th>\n",
       "      <th>CP</th>\n",
       "      <th>Ville</th>\n",
       "      <th>Tel</th>\n",
       "      <th>Commentaires</th>\n",
       "      <th>latitude</th>\n",
       "      <th>longitude</th>\n",
       "      <th>Groupe</th>\n",
       "      <th>x</th>\n",
       "      <th>y</th>\n",
       "    </tr>\n",
       "  </thead>\n",
       "  <tbody>\n",
       "    <tr>\n",
       "      <th>0</th>\n",
       "      <td>Pêcheur</td>\n",
       "      <td>25 Rue Bellevue 57950 Montigny-lès-Metz</td>\n",
       "      <td>24</td>\n",
       "      <td>0</td>\n",
       "      <td>Martin</td>\n",
       "      <td>25 rue Bellevue</td>\n",
       "      <td>57950</td>\n",
       "      <td>Montigny-les-Metz</td>\n",
       "      <td>642905254</td>\n",
       "      <td>code 0849</td>\n",
       "      <td>49.102401</td>\n",
       "      <td>6.143209</td>\n",
       "      <td>2</td>\n",
       "      <td>447227.671124</td>\n",
       "      <td>5.459938e+06</td>\n",
       "    </tr>\n",
       "    <tr>\n",
       "      <th>1</th>\n",
       "      <td>LENNON</td>\n",
       "      <td>Rue du Moyen Pont 57000 Metz</td>\n",
       "      <td>12</td>\n",
       "      <td>1</td>\n",
       "      <td>John</td>\n",
       "      <td>5 rue du Moyen Pont</td>\n",
       "      <td>57000</td>\n",
       "      <td>METZ</td>\n",
       "      <td>639098802</td>\n",
       "      <td></td>\n",
       "      <td>49.119108</td>\n",
       "      <td>6.171286</td>\n",
       "      <td>1</td>\n",
       "      <td>449271.686121</td>\n",
       "      <td>5.461796e+06</td>\n",
       "    </tr>\n",
       "    <tr>\n",
       "      <th>2</th>\n",
       "      <td>KILMEISTER</td>\n",
       "      <td>32 Rue de Metz 57310 Bousse</td>\n",
       "      <td>12</td>\n",
       "      <td>2</td>\n",
       "      <td>Lemmy</td>\n",
       "      <td>32, rue de Metz</td>\n",
       "      <td>57310</td>\n",
       "      <td>BOUSSE</td>\n",
       "      <td>666097562</td>\n",
       "      <td></td>\n",
       "      <td>49.267948</td>\n",
       "      <td>6.201441</td>\n",
       "      <td>0</td>\n",
       "      <td>451466.980213</td>\n",
       "      <td>5.478346e+06</td>\n",
       "    </tr>\n",
       "    <tr>\n",
       "      <th>3</th>\n",
       "      <td>CASH</td>\n",
       "      <td>6 Rue des Trois Evêchés 57070 Metz</td>\n",
       "      <td>12</td>\n",
       "      <td>3</td>\n",
       "      <td>Johnny</td>\n",
       "      <td>6, rue des trois Évêchés</td>\n",
       "      <td>57070</td>\n",
       "      <td>METZ</td>\n",
       "      <td>622134456</td>\n",
       "      <td></td>\n",
       "      <td>49.109708</td>\n",
       "      <td>6.188734</td>\n",
       "      <td>2</td>\n",
       "      <td>450541.906360</td>\n",
       "      <td>5.460750e+06</td>\n",
       "    </tr>\n",
       "    <tr>\n",
       "      <th>4</th>\n",
       "      <td>RACLURE</td>\n",
       "      <td>4 Rue Turgot 57070 Metz</td>\n",
       "      <td>24</td>\n",
       "      <td>4</td>\n",
       "      <td>La</td>\n",
       "      <td>4 rue Turgot</td>\n",
       "      <td>57070</td>\n",
       "      <td>METZ</td>\n",
       "      <td>612844564</td>\n",
       "      <td></td>\n",
       "      <td>49.109899</td>\n",
       "      <td>6.187905</td>\n",
       "      <td>2</td>\n",
       "      <td>450481.554883</td>\n",
       "      <td>5.460772e+06</td>\n",
       "    </tr>\n",
       "  </tbody>\n",
       "</table>\n",
       "</div>"
      ],
      "text/plain": [
       "          Nom                             addresse_BAN  Qte_totale  index  \\\n",
       "0     Pêcheur  25 Rue Bellevue 57950 Montigny-lès-Metz          24      0   \n",
       "1      LENNON             Rue du Moyen Pont 57000 Metz          12      1   \n",
       "2  KILMEISTER              32 Rue de Metz 57310 Bousse          12      2   \n",
       "3        CASH       6 Rue des Trois Evêchés 57070 Metz          12      3   \n",
       "4     RACLURE                  4 Rue Turgot 57070 Metz          24      4   \n",
       "\n",
       "   Prenom                   Adresse     CP              Ville        Tel  \\\n",
       "0  Martin           25 rue Bellevue  57950  Montigny-les-Metz  642905254   \n",
       "1    John       5 rue du Moyen Pont  57000               METZ  639098802   \n",
       "2   Lemmy           32, rue de Metz  57310             BOUSSE  666097562   \n",
       "3  Johnny  6, rue des trois Évêchés  57070               METZ  622134456   \n",
       "4      La              4 rue Turgot  57070               METZ  612844564   \n",
       "\n",
       "  Commentaires   latitude  longitude  Groupe              x             y  \n",
       "0    code 0849  49.102401   6.143209       2  447227.671124  5.459938e+06  \n",
       "1               49.119108   6.171286       1  449271.686121  5.461796e+06  \n",
       "2               49.267948   6.201441       0  451466.980213  5.478346e+06  \n",
       "3               49.109708   6.188734       2  450541.906360  5.460750e+06  \n",
       "4               49.109899   6.187905       2  450481.554883  5.460772e+06  "
      ]
     },
     "execution_count": 9,
     "metadata": {},
     "output_type": "execute_result"
    }
   ],
   "source": [
    "final_client"
   ]
  },
  {
   "cell_type": "markdown",
   "metadata": {},
   "source": [
    "On réalise le clustering"
   ]
  },
  {
   "cell_type": "code",
   "execution_count": 13,
   "metadata": {},
   "outputs": [
    {
     "ename": "KeyError",
     "evalue": "\"['Qte_totale', 'Prenom'] not in index\"",
     "output_type": "error",
     "traceback": [
      "\u001b[0;31m---------------------------------------------------------------------------\u001b[0m",
      "\u001b[0;31mKeyError\u001b[0m                                  Traceback (most recent call last)",
      "\u001b[0;32m<ipython-input-13-aef400c230b2>\u001b[0m in \u001b[0;36m<module>\u001b[0;34m\u001b[0m\n\u001b[1;32m     18\u001b[0m     \u001b[0mdf_region_ordered\u001b[0m\u001b[0;34m.\u001b[0m\u001b[0msort_values\u001b[0m\u001b[0;34m(\u001b[0m\u001b[0;34m[\u001b[0m\u001b[0;34m'order'\u001b[0m\u001b[0;34m]\u001b[0m\u001b[0;34m,\u001b[0m \u001b[0mascending\u001b[0m\u001b[0;34m=\u001b[0m\u001b[0;36m1\u001b[0m\u001b[0;34m,\u001b[0m \u001b[0minplace\u001b[0m\u001b[0;34m=\u001b[0m\u001b[0;32mTrue\u001b[0m\u001b[0;34m)\u001b[0m\u001b[0;34m\u001b[0m\u001b[0;34m\u001b[0m\u001b[0m\n\u001b[1;32m     19\u001b[0m     \u001b[0mdf_region_ordered\u001b[0m\u001b[0;34m.\u001b[0m\u001b[0mreset_index\u001b[0m\u001b[0;34m(\u001b[0m\u001b[0mdrop\u001b[0m\u001b[0;34m=\u001b[0m\u001b[0;32mTrue\u001b[0m\u001b[0;34m,\u001b[0m \u001b[0minplace\u001b[0m\u001b[0;34m=\u001b[0m\u001b[0;32mTrue\u001b[0m\u001b[0;34m)\u001b[0m\u001b[0;34m\u001b[0m\u001b[0;34m\u001b[0m\u001b[0m\n\u001b[0;32m---> 20\u001b[0;31m     \u001b[0mdf_region_reduced\u001b[0m \u001b[0;34m=\u001b[0m \u001b[0mdf_region_ordered\u001b[0m\u001b[0;34m[\u001b[0m\u001b[0;34m[\u001b[0m\u001b[0;34m\"Nom\"\u001b[0m\u001b[0;34m,\u001b[0m \u001b[0;34m\"Prenom\"\u001b[0m\u001b[0;34m,\u001b[0m \u001b[0;34m\"Tel\"\u001b[0m\u001b[0;34m,\u001b[0m \u001b[0;34m\"Adresse\"\u001b[0m\u001b[0;34m,\u001b[0m \u001b[0;34m\"CP\"\u001b[0m\u001b[0;34m,\u001b[0m \u001b[0;34m\"Ville\"\u001b[0m\u001b[0;34m,\u001b[0m \u001b[0;34m\"Qte_totale\"\u001b[0m\u001b[0;34m]\u001b[0m\u001b[0;34m]\u001b[0m\u001b[0;34m\u001b[0m\u001b[0;34m\u001b[0m\u001b[0m\n\u001b[0m\u001b[1;32m     21\u001b[0m     \u001b[0mdf_region_reduced\u001b[0m\u001b[0;34m.\u001b[0m\u001b[0mto_csv\u001b[0m\u001b[0;34m(\u001b[0m\u001b[0;34m'clients_tournee_'\u001b[0m \u001b[0;34m+\u001b[0m \u001b[0mstr\u001b[0m\u001b[0;34m(\u001b[0m\u001b[0mint\u001b[0m\u001b[0;34m(\u001b[0m\u001b[0mregion\u001b[0m\u001b[0;34m)\u001b[0m\u001b[0;34m)\u001b[0m \u001b[0;34m+\u001b[0m \u001b[0;34m'.csv'\u001b[0m\u001b[0;34m,\u001b[0m \u001b[0msep\u001b[0m\u001b[0;34m=\u001b[0m\u001b[0;34m';'\u001b[0m\u001b[0;34m)\u001b[0m\u001b[0;34m\u001b[0m\u001b[0;34m\u001b[0m\u001b[0m\n\u001b[1;32m     22\u001b[0m     \u001b[0mtournees\u001b[0m\u001b[0;34m.\u001b[0m\u001b[0mappend\u001b[0m\u001b[0;34m(\u001b[0m\u001b[0mdf_region_ordered\u001b[0m\u001b[0;34m)\u001b[0m\u001b[0;34m\u001b[0m\u001b[0;34m\u001b[0m\u001b[0m\n",
      "\u001b[0;32m~/.pyenv/versions/3.8.2/lib/python3.8/site-packages/pandas/core/frame.py\u001b[0m in \u001b[0;36m__getitem__\u001b[0;34m(self, key)\u001b[0m\n\u001b[1;32m   2804\u001b[0m             \u001b[0;32mif\u001b[0m \u001b[0mis_iterator\u001b[0m\u001b[0;34m(\u001b[0m\u001b[0mkey\u001b[0m\u001b[0;34m)\u001b[0m\u001b[0;34m:\u001b[0m\u001b[0;34m\u001b[0m\u001b[0;34m\u001b[0m\u001b[0m\n\u001b[1;32m   2805\u001b[0m                 \u001b[0mkey\u001b[0m \u001b[0;34m=\u001b[0m \u001b[0mlist\u001b[0m\u001b[0;34m(\u001b[0m\u001b[0mkey\u001b[0m\u001b[0;34m)\u001b[0m\u001b[0;34m\u001b[0m\u001b[0;34m\u001b[0m\u001b[0m\n\u001b[0;32m-> 2806\u001b[0;31m             \u001b[0mindexer\u001b[0m \u001b[0;34m=\u001b[0m \u001b[0mself\u001b[0m\u001b[0;34m.\u001b[0m\u001b[0mloc\u001b[0m\u001b[0;34m.\u001b[0m\u001b[0m_get_listlike_indexer\u001b[0m\u001b[0;34m(\u001b[0m\u001b[0mkey\u001b[0m\u001b[0;34m,\u001b[0m \u001b[0maxis\u001b[0m\u001b[0;34m=\u001b[0m\u001b[0;36m1\u001b[0m\u001b[0;34m,\u001b[0m \u001b[0mraise_missing\u001b[0m\u001b[0;34m=\u001b[0m\u001b[0;32mTrue\u001b[0m\u001b[0;34m)\u001b[0m\u001b[0;34m[\u001b[0m\u001b[0;36m1\u001b[0m\u001b[0;34m]\u001b[0m\u001b[0;34m\u001b[0m\u001b[0;34m\u001b[0m\u001b[0m\n\u001b[0m\u001b[1;32m   2807\u001b[0m \u001b[0;34m\u001b[0m\u001b[0m\n\u001b[1;32m   2808\u001b[0m         \u001b[0;31m# take() does not accept boolean indexers\u001b[0m\u001b[0;34m\u001b[0m\u001b[0;34m\u001b[0m\u001b[0;34m\u001b[0m\u001b[0m\n",
      "\u001b[0;32m~/.pyenv/versions/3.8.2/lib/python3.8/site-packages/pandas/core/indexing.py\u001b[0m in \u001b[0;36m_get_listlike_indexer\u001b[0;34m(self, key, axis, raise_missing)\u001b[0m\n\u001b[1;32m   1550\u001b[0m             \u001b[0mkeyarr\u001b[0m\u001b[0;34m,\u001b[0m \u001b[0mindexer\u001b[0m\u001b[0;34m,\u001b[0m \u001b[0mnew_indexer\u001b[0m \u001b[0;34m=\u001b[0m \u001b[0max\u001b[0m\u001b[0;34m.\u001b[0m\u001b[0m_reindex_non_unique\u001b[0m\u001b[0;34m(\u001b[0m\u001b[0mkeyarr\u001b[0m\u001b[0;34m)\u001b[0m\u001b[0;34m\u001b[0m\u001b[0;34m\u001b[0m\u001b[0m\n\u001b[1;32m   1551\u001b[0m \u001b[0;34m\u001b[0m\u001b[0m\n\u001b[0;32m-> 1552\u001b[0;31m         self._validate_read_indexer(\n\u001b[0m\u001b[1;32m   1553\u001b[0m             \u001b[0mkeyarr\u001b[0m\u001b[0;34m,\u001b[0m \u001b[0mindexer\u001b[0m\u001b[0;34m,\u001b[0m \u001b[0mo\u001b[0m\u001b[0;34m.\u001b[0m\u001b[0m_get_axis_number\u001b[0m\u001b[0;34m(\u001b[0m\u001b[0maxis\u001b[0m\u001b[0;34m)\u001b[0m\u001b[0;34m,\u001b[0m \u001b[0mraise_missing\u001b[0m\u001b[0;34m=\u001b[0m\u001b[0mraise_missing\u001b[0m\u001b[0;34m\u001b[0m\u001b[0;34m\u001b[0m\u001b[0m\n\u001b[1;32m   1554\u001b[0m         )\n",
      "\u001b[0;32m~/.pyenv/versions/3.8.2/lib/python3.8/site-packages/pandas/core/indexing.py\u001b[0m in \u001b[0;36m_validate_read_indexer\u001b[0;34m(self, key, indexer, axis, raise_missing)\u001b[0m\n\u001b[1;32m   1644\u001b[0m             \u001b[0;32mif\u001b[0m \u001b[0;32mnot\u001b[0m \u001b[0;34m(\u001b[0m\u001b[0mself\u001b[0m\u001b[0;34m.\u001b[0m\u001b[0mname\u001b[0m \u001b[0;34m==\u001b[0m \u001b[0;34m\"loc\"\u001b[0m \u001b[0;32mand\u001b[0m \u001b[0;32mnot\u001b[0m \u001b[0mraise_missing\u001b[0m\u001b[0;34m)\u001b[0m\u001b[0;34m:\u001b[0m\u001b[0;34m\u001b[0m\u001b[0;34m\u001b[0m\u001b[0m\n\u001b[1;32m   1645\u001b[0m                 \u001b[0mnot_found\u001b[0m \u001b[0;34m=\u001b[0m \u001b[0mlist\u001b[0m\u001b[0;34m(\u001b[0m\u001b[0mset\u001b[0m\u001b[0;34m(\u001b[0m\u001b[0mkey\u001b[0m\u001b[0;34m)\u001b[0m \u001b[0;34m-\u001b[0m \u001b[0mset\u001b[0m\u001b[0;34m(\u001b[0m\u001b[0max\u001b[0m\u001b[0;34m)\u001b[0m\u001b[0;34m)\u001b[0m\u001b[0;34m\u001b[0m\u001b[0;34m\u001b[0m\u001b[0m\n\u001b[0;32m-> 1646\u001b[0;31m                 \u001b[0;32mraise\u001b[0m \u001b[0mKeyError\u001b[0m\u001b[0;34m(\u001b[0m\u001b[0;34mf\"{not_found} not in index\"\u001b[0m\u001b[0;34m)\u001b[0m\u001b[0;34m\u001b[0m\u001b[0;34m\u001b[0m\u001b[0m\n\u001b[0m\u001b[1;32m   1647\u001b[0m \u001b[0;34m\u001b[0m\u001b[0m\n\u001b[1;32m   1648\u001b[0m             \u001b[0;31m# we skip the warning on Categorical/Interval\u001b[0m\u001b[0;34m\u001b[0m\u001b[0;34m\u001b[0m\u001b[0;34m\u001b[0m\u001b[0m\n",
      "\u001b[0;31mKeyError\u001b[0m: \"['Qte_totale', 'Prenom'] not in index\""
     ]
    }
   ],
   "source": [
    "tournees=[]\n",
    "for region, df_region in final_client.groupby('Groupe'):\n",
    "    \n",
    "    #df_region.to_csv('clients_tournee_' + str(region) + '.csv', sep=';')    \n",
    "    #path = solve_tsp(dist_map_gps, endpoints = (0,-1))\n",
    "    \n",
    "    df_array = df_region[['x', 'y']].to_numpy()\n",
    "    #pisciculture debut et fin\n",
    "    df_array = np.vstack(((pt_depart.iloc[0]['x'], pt_depart.iloc[0]['y']),df_array))\n",
    "    df_array = np.vstack((df_array, (pt_depart.iloc[0]['x'], pt_depart.iloc[0]['y'])))\n",
    "    dist_map = cdist(df_array, df_array)\n",
    "    path = solve_tsp(dist_map, endpoints = (0,-1))  \n",
    "    path_red = path[1:-1]\n",
    "    sorterIndex = dict(zip(path_red,range(1,len(path_red)+1)))\n",
    "    df_region_ordered = df_region.copy(deep=True)    \n",
    "    df_region_ordered['index'] = np.arange(1,len(path_red)+1)\n",
    "    df_region_ordered['order'] = df_region_ordered['index'].map(sorterIndex)    \n",
    "    df_region_ordered.sort_values(['order'], ascending=1, inplace=True)\n",
    "    df_region_ordered.reset_index(drop=True, inplace=True)            \n",
    "    df_region_reduced = df_region_ordered[[\"Nom\", \"Prenom\", \"Tel\", \"Adresse\", \"CP\", \"Ville\", \"Qte_totale\"]]\n",
    "    df_region_reduced.to_csv('clients_tournee_' + str(int(region)) + '.csv', sep=';')\n",
    "    tournees.append(df_region_ordered)"
   ]
  },
  {
   "cell_type": "code",
   "execution_count": 11,
   "metadata": {},
   "outputs": [],
   "source": [
    "pt_depart['order'] = 0\n",
    "pt_depart['Groupe'] = 0\n",
    "final_client = pd.concat([pt_depart, final_client], ignore_index=True, join=\"inner\")\n",
    "\n",
    "for index, tournee in zip(range(len(tournees)),tournees):\n",
    "    tournees[index] = pd.concat([pt_depart, tournee], ignore_index=False, join=\"inner\")"
   ]
  },
  {
   "cell_type": "code",
   "execution_count": 12,
   "metadata": {},
   "outputs": [
    {
     "ename": "KeyError",
     "evalue": "'Prenom'",
     "output_type": "error",
     "traceback": [
      "\u001b[0;31m---------------------------------------------------------------------------\u001b[0m",
      "\u001b[0;31mTypeError\u001b[0m                                 Traceback (most recent call last)",
      "\u001b[0;32m~/.pyenv/versions/3.8.2/lib/python3.8/site-packages/pandas/core/indexes/base.py\u001b[0m in \u001b[0;36mget_value\u001b[0;34m(self, series, key)\u001b[0m\n\u001b[1;32m   4409\u001b[0m             \u001b[0;32mtry\u001b[0m\u001b[0;34m:\u001b[0m\u001b[0;34m\u001b[0m\u001b[0;34m\u001b[0m\u001b[0m\n\u001b[0;32m-> 4410\u001b[0;31m                 \u001b[0;32mreturn\u001b[0m \u001b[0mlibindex\u001b[0m\u001b[0;34m.\u001b[0m\u001b[0mget_value_at\u001b[0m\u001b[0;34m(\u001b[0m\u001b[0ms\u001b[0m\u001b[0;34m,\u001b[0m \u001b[0mkey\u001b[0m\u001b[0;34m)\u001b[0m\u001b[0;34m\u001b[0m\u001b[0;34m\u001b[0m\u001b[0m\n\u001b[0m\u001b[1;32m   4411\u001b[0m             \u001b[0;32mexcept\u001b[0m \u001b[0mIndexError\u001b[0m\u001b[0;34m:\u001b[0m\u001b[0;34m\u001b[0m\u001b[0;34m\u001b[0m\u001b[0m\n",
      "\u001b[0;32mpandas/_libs/index.pyx\u001b[0m in \u001b[0;36mpandas._libs.index.get_value_at\u001b[0;34m()\u001b[0m\n",
      "\u001b[0;32mpandas/_libs/index.pyx\u001b[0m in \u001b[0;36mpandas._libs.index.get_value_at\u001b[0;34m()\u001b[0m\n",
      "\u001b[0;32mpandas/_libs/util.pxd\u001b[0m in \u001b[0;36mpandas._libs.util.get_value_at\u001b[0;34m()\u001b[0m\n",
      "\u001b[0;32mpandas/_libs/util.pxd\u001b[0m in \u001b[0;36mpandas._libs.util.validate_indexer\u001b[0;34m()\u001b[0m\n",
      "\u001b[0;31mTypeError\u001b[0m: 'str' object cannot be interpreted as an integer",
      "\nDuring handling of the above exception, another exception occurred:\n",
      "\u001b[0;31mKeyError\u001b[0m                                  Traceback (most recent call last)",
      "\u001b[0;32m<ipython-input-12-ca0a84a568c4>\u001b[0m in \u001b[0;36m<module>\u001b[0;34m\u001b[0m\n\u001b[1;32m     17\u001b[0m         \u001b[0mstr\u001b[0m\u001b[0;34m(\u001b[0m\u001b[0mtournee\u001b[0m\u001b[0;34m.\u001b[0m\u001b[0miloc\u001b[0m\u001b[0;34m[\u001b[0m\u001b[0mi\u001b[0m\u001b[0;34m]\u001b[0m\u001b[0;34m[\u001b[0m\u001b[0;34m'latitude'\u001b[0m\u001b[0;34m]\u001b[0m\u001b[0;34m)\u001b[0m\u001b[0;34m+\u001b[0m \u001b[0;34m','\u001b[0m \u001b[0;34m+\u001b[0m \u001b[0mstr\u001b[0m\u001b[0;34m(\u001b[0m\u001b[0mtournee\u001b[0m\u001b[0;34m.\u001b[0m\u001b[0miloc\u001b[0m\u001b[0;34m[\u001b[0m\u001b[0mi\u001b[0m\u001b[0;34m]\u001b[0m\u001b[0;34m[\u001b[0m\u001b[0;34m'longitude'\u001b[0m\u001b[0;34m]\u001b[0m\u001b[0;34m)\u001b[0m\u001b[0;34m\u001b[0m\u001b[0;34m\u001b[0m\u001b[0m\n\u001b[1;32m     18\u001b[0m         \u001b[0maddress\u001b[0m \u001b[0;34m=\u001b[0m \u001b[0mstr\u001b[0m\u001b[0;34m(\u001b[0m\u001b[0mtournee\u001b[0m\u001b[0;34m.\u001b[0m\u001b[0miloc\u001b[0m\u001b[0;34m[\u001b[0m\u001b[0mi\u001b[0m\u001b[0;34m]\u001b[0m\u001b[0;34m[\u001b[0m\u001b[0;34m'Adresse'\u001b[0m\u001b[0;34m]\u001b[0m\u001b[0;34m)\u001b[0m \u001b[0;34m+\u001b[0m \u001b[0;34m\", \"\u001b[0m \u001b[0;34m+\u001b[0m \u001b[0mstr\u001b[0m\u001b[0;34m(\u001b[0m\u001b[0mtournee\u001b[0m\u001b[0;34m.\u001b[0m\u001b[0miloc\u001b[0m\u001b[0;34m[\u001b[0m\u001b[0mi\u001b[0m\u001b[0;34m]\u001b[0m\u001b[0;34m[\u001b[0m\u001b[0;34m'CP'\u001b[0m\u001b[0;34m]\u001b[0m\u001b[0;34m)\u001b[0m \u001b[0;34m+\u001b[0m \u001b[0;34m\", \"\u001b[0m \u001b[0;34m+\u001b[0m \u001b[0mstr\u001b[0m\u001b[0;34m(\u001b[0m\u001b[0mtournee\u001b[0m\u001b[0;34m.\u001b[0m\u001b[0miloc\u001b[0m\u001b[0;34m[\u001b[0m\u001b[0mi\u001b[0m\u001b[0;34m]\u001b[0m\u001b[0;34m[\u001b[0m\u001b[0;34m'Ville'\u001b[0m\u001b[0;34m]\u001b[0m\u001b[0;34m)\u001b[0m\u001b[0;34m\u001b[0m\u001b[0;34m\u001b[0m\u001b[0m\n\u001b[0;32m---> 19\u001b[0;31m         \u001b[0mnom_prenom\u001b[0m \u001b[0;34m=\u001b[0m \u001b[0mstr\u001b[0m\u001b[0;34m(\u001b[0m\u001b[0mtournee\u001b[0m\u001b[0;34m.\u001b[0m\u001b[0miloc\u001b[0m\u001b[0;34m[\u001b[0m\u001b[0mi\u001b[0m\u001b[0;34m]\u001b[0m\u001b[0;34m[\u001b[0m\u001b[0;34m'Nom'\u001b[0m\u001b[0;34m]\u001b[0m\u001b[0;34m)\u001b[0m \u001b[0;34m+\u001b[0m \u001b[0;34m'\\t'\u001b[0m \u001b[0;34m+\u001b[0m \u001b[0mstr\u001b[0m\u001b[0;34m(\u001b[0m\u001b[0mtournee\u001b[0m\u001b[0;34m.\u001b[0m\u001b[0miloc\u001b[0m\u001b[0;34m[\u001b[0m\u001b[0mi\u001b[0m\u001b[0;34m]\u001b[0m\u001b[0;34m[\u001b[0m\u001b[0;34m'Prenom'\u001b[0m\u001b[0;34m]\u001b[0m\u001b[0;34m)\u001b[0m\u001b[0;34m\u001b[0m\u001b[0;34m\u001b[0m\u001b[0m\n\u001b[0m\u001b[1;32m     20\u001b[0m         \u001b[0mtel\u001b[0m \u001b[0;34m=\u001b[0m \u001b[0;34m'0'\u001b[0m \u001b[0;34m+\u001b[0m \u001b[0mstr\u001b[0m\u001b[0;34m(\u001b[0m\u001b[0mtournee\u001b[0m\u001b[0;34m.\u001b[0m\u001b[0miloc\u001b[0m\u001b[0;34m[\u001b[0m\u001b[0mi\u001b[0m\u001b[0;34m]\u001b[0m\u001b[0;34m[\u001b[0m\u001b[0;34m'Tel'\u001b[0m\u001b[0;34m]\u001b[0m\u001b[0;34m)\u001b[0m\u001b[0;34m\u001b[0m\u001b[0;34m\u001b[0m\u001b[0m\n\u001b[1;32m     21\u001b[0m         \u001b[0mcolis\u001b[0m \u001b[0;34m=\u001b[0m \u001b[0mstr\u001b[0m\u001b[0;34m(\u001b[0m\u001b[0mtournee\u001b[0m\u001b[0;34m.\u001b[0m\u001b[0miloc\u001b[0m\u001b[0;34m[\u001b[0m\u001b[0mi\u001b[0m\u001b[0;34m]\u001b[0m\u001b[0;34m[\u001b[0m\u001b[0;34m'Qte_totale'\u001b[0m\u001b[0;34m]\u001b[0m\u001b[0;34m)\u001b[0m \u001b[0;34m+\u001b[0m \u001b[0;34m' bieres'\u001b[0m\u001b[0;34m\u001b[0m\u001b[0;34m\u001b[0m\u001b[0m\n",
      "\u001b[0;32m~/.pyenv/versions/3.8.2/lib/python3.8/site-packages/pandas/core/series.py\u001b[0m in \u001b[0;36m__getitem__\u001b[0;34m(self, key)\u001b[0m\n\u001b[1;32m    869\u001b[0m         \u001b[0mkey\u001b[0m \u001b[0;34m=\u001b[0m \u001b[0mcom\u001b[0m\u001b[0;34m.\u001b[0m\u001b[0mapply_if_callable\u001b[0m\u001b[0;34m(\u001b[0m\u001b[0mkey\u001b[0m\u001b[0;34m,\u001b[0m \u001b[0mself\u001b[0m\u001b[0;34m)\u001b[0m\u001b[0;34m\u001b[0m\u001b[0;34m\u001b[0m\u001b[0m\n\u001b[1;32m    870\u001b[0m         \u001b[0;32mtry\u001b[0m\u001b[0;34m:\u001b[0m\u001b[0;34m\u001b[0m\u001b[0;34m\u001b[0m\u001b[0m\n\u001b[0;32m--> 871\u001b[0;31m             \u001b[0mresult\u001b[0m \u001b[0;34m=\u001b[0m \u001b[0mself\u001b[0m\u001b[0;34m.\u001b[0m\u001b[0mindex\u001b[0m\u001b[0;34m.\u001b[0m\u001b[0mget_value\u001b[0m\u001b[0;34m(\u001b[0m\u001b[0mself\u001b[0m\u001b[0;34m,\u001b[0m \u001b[0mkey\u001b[0m\u001b[0;34m)\u001b[0m\u001b[0;34m\u001b[0m\u001b[0;34m\u001b[0m\u001b[0m\n\u001b[0m\u001b[1;32m    872\u001b[0m \u001b[0;34m\u001b[0m\u001b[0m\n\u001b[1;32m    873\u001b[0m             \u001b[0;32mif\u001b[0m \u001b[0;32mnot\u001b[0m \u001b[0mis_scalar\u001b[0m\u001b[0;34m(\u001b[0m\u001b[0mresult\u001b[0m\u001b[0;34m)\u001b[0m\u001b[0;34m:\u001b[0m\u001b[0;34m\u001b[0m\u001b[0;34m\u001b[0m\u001b[0m\n",
      "\u001b[0;32m~/.pyenv/versions/3.8.2/lib/python3.8/site-packages/pandas/core/indexes/base.py\u001b[0m in \u001b[0;36mget_value\u001b[0;34m(self, series, key)\u001b[0m\n\u001b[1;32m   4416\u001b[0m                     \u001b[0;32mraise\u001b[0m \u001b[0mInvalidIndexError\u001b[0m\u001b[0;34m(\u001b[0m\u001b[0mkey\u001b[0m\u001b[0;34m)\u001b[0m\u001b[0;34m\u001b[0m\u001b[0;34m\u001b[0m\u001b[0m\n\u001b[1;32m   4417\u001b[0m                 \u001b[0;32melse\u001b[0m\u001b[0;34m:\u001b[0m\u001b[0;34m\u001b[0m\u001b[0;34m\u001b[0m\u001b[0m\n\u001b[0;32m-> 4418\u001b[0;31m                     \u001b[0;32mraise\u001b[0m \u001b[0me1\u001b[0m\u001b[0;34m\u001b[0m\u001b[0;34m\u001b[0m\u001b[0m\n\u001b[0m\u001b[1;32m   4419\u001b[0m             \u001b[0;32mexcept\u001b[0m \u001b[0mException\u001b[0m\u001b[0;34m:\u001b[0m\u001b[0;34m\u001b[0m\u001b[0;34m\u001b[0m\u001b[0m\n\u001b[1;32m   4420\u001b[0m                 \u001b[0;32mraise\u001b[0m \u001b[0me1\u001b[0m\u001b[0;34m\u001b[0m\u001b[0;34m\u001b[0m\u001b[0m\n",
      "\u001b[0;32m~/.pyenv/versions/3.8.2/lib/python3.8/site-packages/pandas/core/indexes/base.py\u001b[0m in \u001b[0;36mget_value\u001b[0;34m(self, series, key)\u001b[0m\n\u001b[1;32m   4402\u001b[0m         \u001b[0mk\u001b[0m \u001b[0;34m=\u001b[0m \u001b[0mself\u001b[0m\u001b[0;34m.\u001b[0m\u001b[0m_convert_scalar_indexer\u001b[0m\u001b[0;34m(\u001b[0m\u001b[0mk\u001b[0m\u001b[0;34m,\u001b[0m \u001b[0mkind\u001b[0m\u001b[0;34m=\u001b[0m\u001b[0;34m\"getitem\"\u001b[0m\u001b[0;34m)\u001b[0m\u001b[0;34m\u001b[0m\u001b[0;34m\u001b[0m\u001b[0m\n\u001b[1;32m   4403\u001b[0m         \u001b[0;32mtry\u001b[0m\u001b[0;34m:\u001b[0m\u001b[0;34m\u001b[0m\u001b[0;34m\u001b[0m\u001b[0m\n\u001b[0;32m-> 4404\u001b[0;31m             \u001b[0;32mreturn\u001b[0m \u001b[0mself\u001b[0m\u001b[0;34m.\u001b[0m\u001b[0m_engine\u001b[0m\u001b[0;34m.\u001b[0m\u001b[0mget_value\u001b[0m\u001b[0;34m(\u001b[0m\u001b[0ms\u001b[0m\u001b[0;34m,\u001b[0m \u001b[0mk\u001b[0m\u001b[0;34m,\u001b[0m \u001b[0mtz\u001b[0m\u001b[0;34m=\u001b[0m\u001b[0mgetattr\u001b[0m\u001b[0;34m(\u001b[0m\u001b[0mseries\u001b[0m\u001b[0;34m.\u001b[0m\u001b[0mdtype\u001b[0m\u001b[0;34m,\u001b[0m \u001b[0;34m\"tz\"\u001b[0m\u001b[0;34m,\u001b[0m \u001b[0;32mNone\u001b[0m\u001b[0;34m)\u001b[0m\u001b[0;34m)\u001b[0m\u001b[0;34m\u001b[0m\u001b[0;34m\u001b[0m\u001b[0m\n\u001b[0m\u001b[1;32m   4405\u001b[0m         \u001b[0;32mexcept\u001b[0m \u001b[0mKeyError\u001b[0m \u001b[0;32mas\u001b[0m \u001b[0me1\u001b[0m\u001b[0;34m:\u001b[0m\u001b[0;34m\u001b[0m\u001b[0;34m\u001b[0m\u001b[0m\n\u001b[1;32m   4406\u001b[0m             \u001b[0;32mif\u001b[0m \u001b[0mlen\u001b[0m\u001b[0;34m(\u001b[0m\u001b[0mself\u001b[0m\u001b[0;34m)\u001b[0m \u001b[0;34m>\u001b[0m \u001b[0;36m0\u001b[0m \u001b[0;32mand\u001b[0m \u001b[0;34m(\u001b[0m\u001b[0mself\u001b[0m\u001b[0;34m.\u001b[0m\u001b[0mholds_integer\u001b[0m\u001b[0;34m(\u001b[0m\u001b[0;34m)\u001b[0m \u001b[0;32mor\u001b[0m \u001b[0mself\u001b[0m\u001b[0;34m.\u001b[0m\u001b[0mis_boolean\u001b[0m\u001b[0;34m(\u001b[0m\u001b[0;34m)\u001b[0m\u001b[0;34m)\u001b[0m\u001b[0;34m:\u001b[0m\u001b[0;34m\u001b[0m\u001b[0;34m\u001b[0m\u001b[0m\n",
      "\u001b[0;32mpandas/_libs/index.pyx\u001b[0m in \u001b[0;36mpandas._libs.index.IndexEngine.get_value\u001b[0;34m()\u001b[0m\n",
      "\u001b[0;32mpandas/_libs/index.pyx\u001b[0m in \u001b[0;36mpandas._libs.index.IndexEngine.get_value\u001b[0;34m()\u001b[0m\n",
      "\u001b[0;32mpandas/_libs/index.pyx\u001b[0m in \u001b[0;36mpandas._libs.index.IndexEngine.get_loc\u001b[0;34m()\u001b[0m\n",
      "\u001b[0;32mpandas/_libs/hashtable_class_helper.pxi\u001b[0m in \u001b[0;36mpandas._libs.hashtable.PyObjectHashTable.get_item\u001b[0;34m()\u001b[0m\n",
      "\u001b[0;32mpandas/_libs/hashtable_class_helper.pxi\u001b[0m in \u001b[0;36mpandas._libs.hashtable.PyObjectHashTable.get_item\u001b[0;34m()\u001b[0m\n",
      "\u001b[0;31mKeyError\u001b[0m: 'Prenom'"
     ]
    }
   ],
   "source": [
    "folium_map = folium.Map(location=[final_client['latitude'].mean(), \n",
    "                                    final_client['longitude'].mean()], \n",
    "                                    zoom_start=10, tiles='OpenStreetMap')\n",
    "\n",
    "folium.plugins.BoatMarker([final_client.iloc[0]['latitude'], final_client.iloc[0]['longitude']]).add_to(folium_map)\n",
    "\n",
    "Tournee_group=[]\n",
    "\n",
    "color_icons = ['red', 'blue', 'green', 'orange', 'darkblue', 'darkgreen', 'black', 'lightgreen', 'beige', 'pink', 'lightgray', 'lightred', 'purple', 'darkred', 'darkpurple', 'cadetblue', 'gray', 'lightblue']\n",
    "\n",
    "for number, tournee in zip(range(len(tournees)),tournees):\n",
    "\n",
    "    Tournee = FeatureGroup(name='Tournee'+str(int(number)))\n",
    "    for i in range(1,len(tournee)):\n",
    "\n",
    "        url='https://www.google.fr/maps/dir//' + \\\n",
    "        str(tournee.iloc[i]['latitude'])+ ',' + str(tournee.iloc[i]['longitude'])\n",
    "        address = str(tournee.iloc[i]['Adresse']) + \", \" + str(tournee.iloc[i]['CP']) + \", \" + str(tournee.iloc[i]['Ville'])\n",
    "        nom_prenom = str(tournee.iloc[i]['Nom']) + '\\t' + str(tournee.iloc[i]['Prenom'])\n",
    "        tel = '0' + str(tournee.iloc[i]['Tel'])\n",
    "        colis = str(tournee.iloc[i]['Qte_totale']) + ' bieres'\n",
    "        commentaires = str(tournee.iloc[i]['Commentaires'])\n",
    "        lien = '<a href=' + url + '> Maps </a>'\n",
    "\n",
    "        popup_name = '<b>' + nom_prenom + '</b>' + '<br>' + str(address) + '<br>'  + tel + '<br>' + colis + '<br>' + commentaires + '<br>' + lien\n",
    "\n",
    "        popup = folium.Popup(popup_name, max_width=650)\n",
    "\n",
    "        icon_order = DivIcon(\n",
    "            icon_size=(150,36),\n",
    "            icon_anchor=(0,0),\n",
    "            html='<div style=\"font-size: 14pt\">' + str(int(tournee.iloc[i]['order'])) + '</div>',\n",
    "            )\n",
    "\n",
    "        icon = folium.map.Icon(color=color_icons[number%len(color_icons)])        \n",
    "        folium.Marker([tournee.iloc[i]['latitude'], tournee.iloc[i]['longitude']], icon=icon_order).add_to(Tournee)\n",
    "        folium.Marker([tournee.iloc[i]['latitude'], tournee.iloc[i]['longitude']], icon=icon, popup=popup).add_to(Tournee)\n",
    "        Tournee_group.append(Tournee)\n",
    "                           \n",
    "for tournee in Tournee_group:\n",
    "        folium_map.add_child(tournee)\n",
    "                           \n",
    "    #FastMarkerCluster(data=list(zip(df['latitude'].values, df['longitude'].values)), popup=df['addresse_tot']).add_to(folium_map)\n",
    "\n",
    "    #folium_map.add_child(feature_group)\n",
    "folium.LayerControl().add_to(folium_map)\n",
    "folium_map.save(\"map_tournees.html\")\n",
    "folium_map"
   ]
  },
  {
   "cell_type": "code",
   "execution_count": null,
   "metadata": {},
   "outputs": [],
   "source": []
  },
  {
   "cell_type": "code",
   "execution_count": null,
   "metadata": {},
   "outputs": [],
   "source": []
  }
 ],
 "metadata": {
  "kernelspec": {
   "display_name": "Python 3",
   "language": "python",
   "name": "python3"
  },
  "language_info": {
   "codemirror_mode": {
    "name": "ipython",
    "version": 3
   },
   "file_extension": ".py",
   "mimetype": "text/x-python",
   "name": "python",
   "nbconvert_exporter": "python",
   "pygments_lexer": "ipython3",
   "version": "3.8.2"
  },
  "nteract": {
   "version": "0.22.4"
  }
 },
 "nbformat": 4,
 "nbformat_minor": 4
}
