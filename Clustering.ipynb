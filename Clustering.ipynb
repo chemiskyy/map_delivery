{
  "cells": [
    {
      "cell_type": "markdown",
      "source": [
        "# Livraisons à domicile\n",
        "\n",
        "Ce fichier contient plusieurs étapes\n",
        "1. import de librairies essentielles\n",
        "2. Insertion du fichier csv de clients pour livraison\n",
        "3. Détermination de la position gps (geocoding)\n",
        "3. Traitement du fichier et des doublons\n",
        "4. Mise en place sur une carte\n",
        "\n",
        "### Pour déterminer l'ordre des livraisons il faut ajouter l'adresse ci-dessous de la livraison\n",
        "\n",
        "#### Il est important de laisser les guillements simples '' de part et d'autre des noms\n",
        "-----"
      ],
      "metadata": {}
    },
    {
      "cell_type": "code",
      "source": [
        "Nom_Magasin = 'MAGASIN'\n",
        "Prenom_Magasin = 'QUIVABIEN'\n",
        "Adresse_Magasin = '71, en Fournirue'\n",
        "CP_Magasin = 57000\n",
        "Ville_Magasin = 'Metz'"
      ],
      "outputs": [],
      "execution_count": 1,
      "metadata": {
        "collapsed": true,
        "outputExpanded": false,
        "jupyter": {
          "source_hidden": false,
          "outputs_hidden": false
        },
        "nteract": {
          "transient": {
            "deleting": false
          }
        },
        "execution": {
          "iopub.status.busy": "2020-04-21T13:42:34.361Z",
          "iopub.execute_input": "2020-04-21T13:42:34.364Z",
          "iopub.status.idle": "2020-04-21T13:42:34.371Z",
          "shell.execute_reply": "2020-04-21T13:42:34.349Z"
        }
      }
    },
    {
      "cell_type": "markdown",
      "source": [
        "---\n",
        "\n",
        "Il faut ensuite modifier si besoin le nom du fichier .csv \n",
        "Pour le moment le fichier est \"test.csv\" qui "
      ],
      "metadata": {
        "nteract": {
          "transient": {
            "deleting": false
          }
        }
      }
    },
    {
      "cell_type": "code",
      "source": [
        "fichier = 'test.csv'"
      ],
      "outputs": [],
      "execution_count": 2,
      "metadata": {
        "collapsed": true,
        "outputExpanded": false,
        "jupyter": {
          "source_hidden": false,
          "outputs_hidden": false
        },
        "nteract": {
          "transient": {
            "deleting": false
          }
        },
        "execution": {
          "iopub.status.busy": "2020-04-21T13:42:34.376Z",
          "iopub.execute_input": "2020-04-21T13:42:34.379Z",
          "iopub.status.idle": "2020-04-21T13:42:34.383Z",
          "shell.execute_reply": "2020-04-21T13:42:34.352Z"
        }
      }
    },
    {
      "cell_type": "markdown",
      "source": [
        "---"
      ],
      "metadata": {
        "nteract": {
          "transient": {
            "deleting": false
          }
        }
      }
    },
    {
      "cell_type": "code",
      "source": [
        "import pylab\n",
        "import pandas as pd\n",
        "import geopandas as gpd\n",
        "import geopy\n",
        "from geopy.geocoders import Nominatim, GoogleV3, IGNFrance, BANFrance\n",
        "from geopy.extra.rate_limiter import RateLimiter\n",
        "import matplotlib.pyplot as plt\n",
        "import folium\n",
        "from folium import plugins, IFrame\n",
        "from folium.features import *\n",
        "\n",
        "import random\n",
        "import csv\n",
        "import simplekml\n",
        "\n",
        "from pyroutelib3 import Router\n",
        "import numpy as np\n",
        "\n",
        "from scipy.spatial import distance_matrix\n",
        "from scipy.spatial.distance import cdist\n",
        "from scipy.sparse.csgraph import shortest_path\n",
        "\n",
        "from tsp_solver.greedy import solve_tsp\n",
        "\n",
        "pylab.rcParams['figure.figsize'] = (24.0, 12.0) #configure the figure\n",
        "\n",
        "def lon_lat_to_xy(lon, lat, R = 6371000.0):\n",
        "    \"\"\"\n",
        "    calculates lon, lat coordinates of a point on a sphere with\n",
        "    radius R\n",
        "    \"\"\"\n",
        "    lon_r = np.radians(lon)\n",
        "    lat_r = np.radians(lat)\n",
        "\n",
        "    x =  R * np.cos(lat_r[0]) * lon_r\n",
        "    y = R * lat_r\n",
        "    return x,y\n",
        "\n",
        "def get_distance(routeLatLons):\n",
        "    \n",
        "    data = []\n",
        "    for iter, point in enumerate(routeLatLons):\n",
        "        data.append([point[0], point[1]])\n",
        "    \n",
        "    columns = ['Latitude', 'Longitude']\n",
        "    temp = pd.DataFrame(data, columns=columns)\n",
        "    \n",
        "    x_temp,y_temp = lon_lat_to_xy(temp['Longitude'], temp['Latitude'], R = 6371000.0)\n",
        "    x = x_temp - x_temp[0]\n",
        "    y = y_temp - y_temp[0]\n",
        "    d_x = np.diff(x)\n",
        "    d_y = np.diff(y)\n",
        "    ds = np.sqrt(d_x*d_x + d_y*d_y) \n",
        "    return np.sum(ds)"
      ],
      "outputs": [],
      "execution_count": 3,
      "metadata": {
        "execution": {
          "iopub.status.busy": "2020-04-21T13:42:34.388Z",
          "iopub.execute_input": "2020-04-21T13:42:34.391Z",
          "iopub.status.idle": "2020-04-21T13:42:35.196Z",
          "shell.execute_reply": "2020-04-21T13:42:35.199Z"
        }
      }
    },
    {
      "cell_type": "markdown",
      "source": [
        "On effectue le geocoding dans la cellule suivante"
      ],
      "metadata": {
        "nteract": {
          "transient": {
            "deleting": false
          }
        }
      }
    },
    {
      "cell_type": "code",
      "source": [
        "pt_depart = pd.DataFrame({'Nº' : 0, 'Type':['L'], 'Nom':[Nom_Magasin], 'Prénom':[Prenom_Magasin], 'Adresse':[Adresse_Magasin], 'CP':[CP_Magasin], 'Ville':[Ville_Magasin], \"Qté totale\":['1000000'], 'Tel' : ['06660'], 'Commentaires' :['']})\n",
        "\n",
        "#On affiche l'adresse totale\n",
        "pt_depart['addresse_tot'] = pt_depart['Adresse'].astype(str) + ',' + \\\n",
        "                pt_depart['CP'].astype(str) + ',' + \\\n",
        "                pt_depart['Ville'].astype(str) + ', France'\n",
        "\n",
        "locator = BANFrance()\n",
        "geocode = RateLimiter(locator.geocode, min_delay_seconds=0.1)\n",
        "pt_depart['location'] = pt_depart['addresse_tot'].apply(geocode)\n",
        "#On rajoute un point avec des valeurs nulles\n",
        "pt_depart['point'] = pt_depart['location'].apply(lambda loc: tuple(loc.point) if loc else None)\n",
        "\n",
        "#On sépare ensuite l'objet point en latitude, longitude et altitude\n",
        "pt_depart[['latitude', 'longitude', 'altitude']] = pd.DataFrame(pt_depart['point'].tolist(), index=pt_depart.index)"
      ],
      "outputs": [],
      "execution_count": 4,
      "metadata": {
        "collapsed": true,
        "outputExpanded": false,
        "jupyter": {
          "source_hidden": false,
          "outputs_hidden": false
        },
        "nteract": {
          "transient": {
            "deleting": false
          }
        },
        "execution": {
          "iopub.status.busy": "2020-04-21T13:42:35.208Z",
          "iopub.execute_input": "2020-04-21T13:42:35.211Z",
          "iopub.status.idle": "2020-04-21T13:42:36.294Z",
          "shell.execute_reply": "2020-04-21T13:42:36.298Z"
        }
      }
    },
    {
      "cell_type": "code",
      "source": [
        "df = pd.read_csv(fichier, sep=';')\n",
        "df.head(5)\n",
        "df.columns\n",
        "df.dropna(subset=['Nº'], inplace=True)\n",
        "df['Type'] = df['Type'].str.lower()\n",
        "df['Nº'] = df['Nº'].astype('int')\n",
        "df['Tel'] = df['Tel'].astype('str')\n",
        "df['Tel'] = df['Tel'].str.replace(' ','')\n",
        "df['Tel'] = df['Tel'].astype('int')\n",
        "df['Qté totale'] = df['Qté totale'].astype('int')\n",
        "df['Commentaires'] = df['Commentaires'].replace(np.nan, '', regex=True)\n",
        "df['Type'] = df['Type'].apply(lambda x: x[0])\n",
        "\n",
        "liv = df.loc[df['Type'] == 'l']\n",
        "liv = liv.copy(deep=True)\n",
        "try:\n",
        "    groupes = pd.read_csv(\"groupes.csv\", sep=';')\n",
        "    liv = liv.merge(groupes, how='left').fillna(0)\n",
        "except:\n",
        "    liv['Groupe'] = 1\n",
        "liv['Groupe'] = liv['Groupe'].astype('int')\n",
        "liv"
      ],
      "outputs": [
        {
          "output_type": "execute_result",
          "execution_count": 19,
          "data": {
            "text/plain": [
              "     Nº Type Commentaires  Prénom         Nom        Tel  \\\n",
              "0  1419    l    code 0849  Martin     Pêcheur  642905254   \n",
              "1  1420    l                 John      LENNON  639098802   \n",
              "2  1421    l                Lemmy  KILMEISTER  666097562   \n",
              "3  1422    l               Johnny        CASH  622134456   \n",
              "4  1422    l                   La     RACLURE  612844564   \n",
              "\n",
              "                    Adresse              Ville     CP  Qté totale  Groupe  \n",
              "0           25 rue Bellevue  Montigny-les-Metz  57950          24       2  \n",
              "1       5 rue du Moyen Pont               METZ  57000          12       1  \n",
              "2           32, rue de Metz             BOUSSE  57310          12       0  \n",
              "3  6, rue des trois Évêchés               METZ  57070          12       2  \n",
              "4              4 rue Turgot               METZ  57070          24       2  "
            ],
            "text/html": [
              "<div>\n",
              "<style scoped>\n",
              "    .dataframe tbody tr th:only-of-type {\n",
              "        vertical-align: middle;\n",
              "    }\n",
              "\n",
              "    .dataframe tbody tr th {\n",
              "        vertical-align: top;\n",
              "    }\n",
              "\n",
              "    .dataframe thead th {\n",
              "        text-align: right;\n",
              "    }\n",
              "</style>\n",
              "<table border=\"1\" class=\"dataframe\">\n",
              "  <thead>\n",
              "    <tr style=\"text-align: right;\">\n",
              "      <th></th>\n",
              "      <th>Nº</th>\n",
              "      <th>Type</th>\n",
              "      <th>Commentaires</th>\n",
              "      <th>Prénom</th>\n",
              "      <th>Nom</th>\n",
              "      <th>Tel</th>\n",
              "      <th>Adresse</th>\n",
              "      <th>Ville</th>\n",
              "      <th>CP</th>\n",
              "      <th>Qté totale</th>\n",
              "      <th>Groupe</th>\n",
              "    </tr>\n",
              "  </thead>\n",
              "  <tbody>\n",
              "    <tr>\n",
              "      <th>0</th>\n",
              "      <td>1419</td>\n",
              "      <td>l</td>\n",
              "      <td>code 0849</td>\n",
              "      <td>Martin</td>\n",
              "      <td>Pêcheur</td>\n",
              "      <td>642905254</td>\n",
              "      <td>25 rue Bellevue</td>\n",
              "      <td>Montigny-les-Metz</td>\n",
              "      <td>57950</td>\n",
              "      <td>24</td>\n",
              "      <td>2</td>\n",
              "    </tr>\n",
              "    <tr>\n",
              "      <th>1</th>\n",
              "      <td>1420</td>\n",
              "      <td>l</td>\n",
              "      <td></td>\n",
              "      <td>John</td>\n",
              "      <td>LENNON</td>\n",
              "      <td>639098802</td>\n",
              "      <td>5 rue du Moyen Pont</td>\n",
              "      <td>METZ</td>\n",
              "      <td>57000</td>\n",
              "      <td>12</td>\n",
              "      <td>1</td>\n",
              "    </tr>\n",
              "    <tr>\n",
              "      <th>2</th>\n",
              "      <td>1421</td>\n",
              "      <td>l</td>\n",
              "      <td></td>\n",
              "      <td>Lemmy</td>\n",
              "      <td>KILMEISTER</td>\n",
              "      <td>666097562</td>\n",
              "      <td>32, rue de Metz</td>\n",
              "      <td>BOUSSE</td>\n",
              "      <td>57310</td>\n",
              "      <td>12</td>\n",
              "      <td>0</td>\n",
              "    </tr>\n",
              "    <tr>\n",
              "      <th>3</th>\n",
              "      <td>1422</td>\n",
              "      <td>l</td>\n",
              "      <td></td>\n",
              "      <td>Johnny</td>\n",
              "      <td>CASH</td>\n",
              "      <td>622134456</td>\n",
              "      <td>6, rue des trois Évêchés</td>\n",
              "      <td>METZ</td>\n",
              "      <td>57070</td>\n",
              "      <td>12</td>\n",
              "      <td>2</td>\n",
              "    </tr>\n",
              "    <tr>\n",
              "      <th>4</th>\n",
              "      <td>1422</td>\n",
              "      <td>l</td>\n",
              "      <td></td>\n",
              "      <td>La</td>\n",
              "      <td>RACLURE</td>\n",
              "      <td>612844564</td>\n",
              "      <td>4 rue Turgot</td>\n",
              "      <td>METZ</td>\n",
              "      <td>57070</td>\n",
              "      <td>24</td>\n",
              "      <td>2</td>\n",
              "    </tr>\n",
              "  </tbody>\n",
              "</table>\n",
              "</div>"
            ]
          },
          "metadata": {}
        }
      ],
      "execution_count": 19,
      "metadata": {
        "collapsed": true,
        "outputExpanded": false,
        "jupyter": {
          "source_hidden": false,
          "outputs_hidden": false
        },
        "nteract": {
          "transient": {
            "deleting": false
          }
        },
        "execution": {
          "iopub.status.busy": "2020-04-21T13:44:58.094Z",
          "iopub.execute_input": "2020-04-21T13:44:58.098Z",
          "iopub.status.idle": "2020-04-21T13:44:58.106Z",
          "shell.execute_reply": "2020-04-21T13:44:58.123Z"
        }
      }
    },
    {
      "cell_type": "code",
      "source": [
        "#On affiche l'adresse totale\n",
        "liv['addresse_tot'] = liv['Adresse'].astype(str) + ', ' + \\\n",
        "                liv['CP'].astype(str) + ', ' + \\\n",
        "                liv['Ville'].astype(str) + ', France'   \n",
        "\n",
        "#En utilisant un $locator de geopy, on trouve l'adresse et la position\n",
        "locator = BANFrance()\n",
        "geocode = RateLimiter(locator.geocode, min_delay_seconds=0.1)\n",
        "liv['location'] = liv['addresse_tot'].apply(geocode)\n",
        "#On rajoute un point avec des valeurs nulles\n",
        "liv['point'] = liv['location'].apply(lambda loc: tuple(loc.point) if loc else None)\n",
        "\n",
        "#On sépare ensuite l'objet point en latitude, longitude et altitude\n",
        "liv[['latitude', 'longitude', 'altitude']] = pd.DataFrame(liv['point'].tolist(), index=liv.index)\n",
        "liv"
      ],
      "outputs": [
        {
          "output_type": "execute_result",
          "execution_count": 46,
          "data": {
            "text/plain": [
              "     Nº Type Commentaires  Prénom         Nom        Tel  \\\n",
              "0  1419    l    code 0849  Martin     Pêcheur  642905254   \n",
              "1  1420    l                 John      LENNON  639098802   \n",
              "2  1421    l                Lemmy  KILMEISTER  666097562   \n",
              "3  1422    l               Johnny        CASH  622134456   \n",
              "4  1422    l                   La     RACLURE  612844564   \n",
              "\n",
              "                    Adresse              Ville     CP  Qté totale  Groupe  \\\n",
              "0           25 rue Bellevue  Montigny-les-Metz  57950          24       2   \n",
              "1       5 rue du Moyen Pont               METZ  57000          12       1   \n",
              "2           32, rue de Metz             BOUSSE  57310          12       0   \n",
              "3  6, rue des trois Évêchés               METZ  57070          12       2   \n",
              "4              4 rue Turgot               METZ  57070          24       2   \n",
              "\n",
              "                                        addresse_tot  \\\n",
              "0  25 rue Bellevue, 57950, Montigny-les-Metz, France   \n",
              "1           5 rue du Moyen Pont, 57000, METZ, France   \n",
              "2             32, rue de Metz, 57310, BOUSSE, France   \n",
              "3      6, rue des trois Évêchés, 57070, METZ, France   \n",
              "4                  4 rue Turgot, 57070, METZ, France   \n",
              "\n",
              "                                            location  \\\n",
              "0  (25 Rue Bellevue 57950 Montigny-lès-Metz, (49....   \n",
              "1  (Rue du Moyen Pont 57000 Metz, (49.119108, 6.1...   \n",
              "2  (32 Rue de Metz 57310 Bousse, (49.267948, 6.20...   \n",
              "3  (6 Rue des Trois Evêchés 57070 Metz, (49.10970...   \n",
              "4   (4 Rue Turgot 57070 Metz, (49.109899, 6.187905))   \n",
              "\n",
              "                        point   latitude  longitude  altitude  index  \\\n",
              "0  (49.102401, 6.143209, 0.0)  49.102401   6.143209       0.0      0   \n",
              "1  (49.119108, 6.171286, 0.0)  49.119108   6.171286       0.0      1   \n",
              "2  (49.267948, 6.201441, 0.0)  49.267948   6.201441       0.0      2   \n",
              "3  (49.109708, 6.188734, 0.0)  49.109708   6.188734       0.0      3   \n",
              "4  (49.109899, 6.187905, 0.0)  49.109899   6.187905       0.0      4   \n",
              "\n",
              "                              addresse_BAN  \n",
              "0  25 Rue Bellevue 57950 Montigny-lès-Metz  \n",
              "1             Rue du Moyen Pont 57000 Metz  \n",
              "2              32 Rue de Metz 57310 Bousse  \n",
              "3       6 Rue des Trois Evêchés 57070 Metz  \n",
              "4                  4 Rue Turgot 57070 Metz  "
            ],
            "text/html": [
              "<div>\n",
              "<style scoped>\n",
              "    .dataframe tbody tr th:only-of-type {\n",
              "        vertical-align: middle;\n",
              "    }\n",
              "\n",
              "    .dataframe tbody tr th {\n",
              "        vertical-align: top;\n",
              "    }\n",
              "\n",
              "    .dataframe thead th {\n",
              "        text-align: right;\n",
              "    }\n",
              "</style>\n",
              "<table border=\"1\" class=\"dataframe\">\n",
              "  <thead>\n",
              "    <tr style=\"text-align: right;\">\n",
              "      <th></th>\n",
              "      <th>Nº</th>\n",
              "      <th>Type</th>\n",
              "      <th>Commentaires</th>\n",
              "      <th>Prénom</th>\n",
              "      <th>Nom</th>\n",
              "      <th>Tel</th>\n",
              "      <th>Adresse</th>\n",
              "      <th>Ville</th>\n",
              "      <th>CP</th>\n",
              "      <th>Qté totale</th>\n",
              "      <th>Groupe</th>\n",
              "      <th>addresse_tot</th>\n",
              "      <th>location</th>\n",
              "      <th>point</th>\n",
              "      <th>latitude</th>\n",
              "      <th>longitude</th>\n",
              "      <th>altitude</th>\n",
              "      <th>index</th>\n",
              "      <th>addresse_BAN</th>\n",
              "    </tr>\n",
              "  </thead>\n",
              "  <tbody>\n",
              "    <tr>\n",
              "      <th>0</th>\n",
              "      <td>1419</td>\n",
              "      <td>l</td>\n",
              "      <td>code 0849</td>\n",
              "      <td>Martin</td>\n",
              "      <td>Pêcheur</td>\n",
              "      <td>642905254</td>\n",
              "      <td>25 rue Bellevue</td>\n",
              "      <td>Montigny-les-Metz</td>\n",
              "      <td>57950</td>\n",
              "      <td>24</td>\n",
              "      <td>2</td>\n",
              "      <td>25 rue Bellevue, 57950, Montigny-les-Metz, France</td>\n",
              "      <td>(25 Rue Bellevue 57950 Montigny-lès-Metz, (49....</td>\n",
              "      <td>(49.102401, 6.143209, 0.0)</td>\n",
              "      <td>49.102401</td>\n",
              "      <td>6.143209</td>\n",
              "      <td>0.0</td>\n",
              "      <td>0</td>\n",
              "      <td>25 Rue Bellevue 57950 Montigny-lès-Metz</td>\n",
              "    </tr>\n",
              "    <tr>\n",
              "      <th>1</th>\n",
              "      <td>1420</td>\n",
              "      <td>l</td>\n",
              "      <td></td>\n",
              "      <td>John</td>\n",
              "      <td>LENNON</td>\n",
              "      <td>639098802</td>\n",
              "      <td>5 rue du Moyen Pont</td>\n",
              "      <td>METZ</td>\n",
              "      <td>57000</td>\n",
              "      <td>12</td>\n",
              "      <td>1</td>\n",
              "      <td>5 rue du Moyen Pont, 57000, METZ, France</td>\n",
              "      <td>(Rue du Moyen Pont 57000 Metz, (49.119108, 6.1...</td>\n",
              "      <td>(49.119108, 6.171286, 0.0)</td>\n",
              "      <td>49.119108</td>\n",
              "      <td>6.171286</td>\n",
              "      <td>0.0</td>\n",
              "      <td>1</td>\n",
              "      <td>Rue du Moyen Pont 57000 Metz</td>\n",
              "    </tr>\n",
              "    <tr>\n",
              "      <th>2</th>\n",
              "      <td>1421</td>\n",
              "      <td>l</td>\n",
              "      <td></td>\n",
              "      <td>Lemmy</td>\n",
              "      <td>KILMEISTER</td>\n",
              "      <td>666097562</td>\n",
              "      <td>32, rue de Metz</td>\n",
              "      <td>BOUSSE</td>\n",
              "      <td>57310</td>\n",
              "      <td>12</td>\n",
              "      <td>0</td>\n",
              "      <td>32, rue de Metz, 57310, BOUSSE, France</td>\n",
              "      <td>(32 Rue de Metz 57310 Bousse, (49.267948, 6.20...</td>\n",
              "      <td>(49.267948, 6.201441, 0.0)</td>\n",
              "      <td>49.267948</td>\n",
              "      <td>6.201441</td>\n",
              "      <td>0.0</td>\n",
              "      <td>2</td>\n",
              "      <td>32 Rue de Metz 57310 Bousse</td>\n",
              "    </tr>\n",
              "    <tr>\n",
              "      <th>3</th>\n",
              "      <td>1422</td>\n",
              "      <td>l</td>\n",
              "      <td></td>\n",
              "      <td>Johnny</td>\n",
              "      <td>CASH</td>\n",
              "      <td>622134456</td>\n",
              "      <td>6, rue des trois Évêchés</td>\n",
              "      <td>METZ</td>\n",
              "      <td>57070</td>\n",
              "      <td>12</td>\n",
              "      <td>2</td>\n",
              "      <td>6, rue des trois Évêchés, 57070, METZ, France</td>\n",
              "      <td>(6 Rue des Trois Evêchés 57070 Metz, (49.10970...</td>\n",
              "      <td>(49.109708, 6.188734, 0.0)</td>\n",
              "      <td>49.109708</td>\n",
              "      <td>6.188734</td>\n",
              "      <td>0.0</td>\n",
              "      <td>3</td>\n",
              "      <td>6 Rue des Trois Evêchés 57070 Metz</td>\n",
              "    </tr>\n",
              "    <tr>\n",
              "      <th>4</th>\n",
              "      <td>1422</td>\n",
              "      <td>l</td>\n",
              "      <td></td>\n",
              "      <td>La</td>\n",
              "      <td>RACLURE</td>\n",
              "      <td>612844564</td>\n",
              "      <td>4 rue Turgot</td>\n",
              "      <td>METZ</td>\n",
              "      <td>57070</td>\n",
              "      <td>24</td>\n",
              "      <td>2</td>\n",
              "      <td>4 rue Turgot, 57070, METZ, France</td>\n",
              "      <td>(4 Rue Turgot 57070 Metz, (49.109899, 6.187905))</td>\n",
              "      <td>(49.109899, 6.187905, 0.0)</td>\n",
              "      <td>49.109899</td>\n",
              "      <td>6.187905</td>\n",
              "      <td>0.0</td>\n",
              "      <td>4</td>\n",
              "      <td>4 Rue Turgot 57070 Metz</td>\n",
              "    </tr>\n",
              "  </tbody>\n",
              "</table>\n",
              "</div>"
            ]
          },
          "metadata": {}
        }
      ],
      "execution_count": 46,
      "metadata": {
        "execution": {
          "iopub.status.busy": "2020-04-21T13:58:40.261Z",
          "iopub.execute_input": "2020-04-21T13:58:40.263Z",
          "iopub.status.idle": "2020-04-21T13:58:41.776Z",
          "shell.execute_reply": "2020-04-21T13:58:41.802Z"
        }
      }
    },
    {
      "cell_type": "code",
      "source": [
        "#On ajoute l'adresse exacte dans un champ \n",
        "liv['index'] = np.arange(len(liv))\n",
        "liv['addresse_BAN'] = liv.location.astype(str)\n",
        "liv['addresse_BAN'] = liv['addresse_BAN'].str.split(',', n = 1)\n",
        "liv.addresse_BAN = liv.addresse_BAN.str[0]\n",
        "#On sépare les commandes\n",
        "liv.addresse_BAN[liv.addresse_BAN.duplicated()].head()\n",
        "liv['Prénom'].fillna('', inplace=True)\n",
        "\n",
        "#dupli = df.duplicated(['addresse_BAN'])\n",
        "dupli = liv[liv.duplicated(['Nom', 'addresse_BAN'], keep=False)]\n",
        "\n",
        "df2 = liv.groupby(['Nom','addresse_BAN'], as_index=False)[[\"Qté totale\"]].sum()\n",
        "df3 = liv.drop_duplicates(subset =['Nom','addresse_BAN'], keep =\"first\", inplace = False)\n",
        "mergedDf = df2.merge(df3[['index','Nom','Prénom','Adresse','CP','Ville','addresse_BAN','Tel','Commentaires','latitude', 'longitude','Qté totale','Groupe']], on=['Nom','addresse_BAN','Qté totale'])\n",
        "\n",
        "mergedDf.sort_values(['index'], ascending=1, inplace=True)\n",
        "mergedDf.reset_index(drop=True, inplace=True)\n",
        "\n",
        "print(dupli)"
      ],
      "outputs": [
        {
          "output_type": "stream",
          "name": "stdout",
          "text": [
            "Empty DataFrame\n",
            "Columns: [Nº, Type, Commentaires, Prénom, Nom, Tel, Adresse, Ville, CP, Qté totale, Groupe, addresse_tot, location, point, latitude, longitude, altitude, index, addresse_BAN]\n",
            "Index: []\n"
          ]
        }
      ],
      "execution_count": 21,
      "metadata": {
        "execution": {
          "iopub.status.busy": "2020-04-21T13:45:14.597Z",
          "iopub.execute_input": "2020-04-21T13:45:14.601Z",
          "iopub.status.idle": "2020-04-21T13:45:14.608Z",
          "shell.execute_reply": "2020-04-21T13:45:14.640Z"
        }
      }
    },
    {
      "cell_type": "code",
      "source": [
        "pt_depart['x'], pt_depart['y'] = lon_lat_to_xy(pt_depart['longitude'], pt_depart['latitude'], R = 6371000.0)\n",
        "mergedDf['x'], mergedDf['y'] = lon_lat_to_xy(mergedDf['longitude'], mergedDf['latitude'], R = 6371000.0)\n",
        "df_array = mergedDf[['x', 'y']].to_numpy()\n",
        "dist_map = cdist(df_array, df_array)\n",
        "pd.DataFrame(dist_map)[0].values\n",
        "to_drop = np.argwhere(pd.DataFrame(dist_map)[0].values > 1.E5)\n",
        "\n",
        "#df_lat_nulle = mergedDf[mergedDf['latitude'].isnull()]\n",
        "df_lat_nulle = mergedDf[mergedDf['latitude'].isna()]\n",
        "for value in to_drop.flatten():\n",
        "    value_int = int(value)\n",
        "    df_lat_nulle = df_lat_nulle.append(mergedDf.iloc[value_int]) \n",
        "    #mergedDf.drop([value_int])       \n",
        "\n",
        "df_lat_nulle.drop_duplicates(subset ='addresse_BAN', keep =\"first\", inplace = True)\n",
        "\n",
        "final_client = pd.concat([mergedDf, df_lat_nulle,df_lat_nulle]).drop_duplicates(keep=False)\n",
        "df_lat_nulle.to_csv('clients_erreur.csv', sep=';')\n",
        "final_client.to_csv('clients_correct.csv', sep=';')\n",
        "\n",
        "#final_client['commande'] = final_client[['Qté totale']].apply(lambda x: x%3, axis=1)"
      ],
      "outputs": [],
      "execution_count": 24,
      "metadata": {
        "execution": {
          "iopub.status.busy": "2020-04-21T13:45:41.140Z",
          "iopub.execute_input": "2020-04-21T13:45:41.143Z",
          "iopub.status.idle": "2020-04-21T13:45:41.158Z",
          "shell.execute_reply": "2020-04-21T13:45:41.161Z"
        }
      }
    },
    {
      "cell_type": "code",
      "source": [
        "final_client"
      ],
      "outputs": [
        {
          "output_type": "execute_result",
          "execution_count": 25,
          "data": {
            "text/plain": [
              "          Nom                             addresse_BAN  Qté totale  index  \\\n",
              "0     Pêcheur  25 Rue Bellevue 57950 Montigny-lès-Metz          24      0   \n",
              "1      LENNON             Rue du Moyen Pont 57000 Metz          12      1   \n",
              "2  KILMEISTER              32 Rue de Metz 57310 Bousse          12      2   \n",
              "3        CASH       6 Rue des Trois Evêchés 57070 Metz          12      3   \n",
              "4     RACLURE                  4 Rue Turgot 57070 Metz          24      4   \n",
              "\n",
              "   Prénom                   Adresse     CP              Ville        Tel  \\\n",
              "0  Martin           25 rue Bellevue  57950  Montigny-les-Metz  642905254   \n",
              "1    John       5 rue du Moyen Pont  57000               METZ  639098802   \n",
              "2   Lemmy           32, rue de Metz  57310             BOUSSE  666097562   \n",
              "3  Johnny  6, rue des trois Évêchés  57070               METZ  622134456   \n",
              "4      La              4 rue Turgot  57070               METZ  612844564   \n",
              "\n",
              "  Commentaires   latitude  longitude  Groupe              x             y  \n",
              "0    code 0849  49.102401   6.143209       2  447227.671124  5.459938e+06  \n",
              "1               49.119108   6.171286       1  449271.686121  5.461796e+06  \n",
              "2               49.267948   6.201441       0  451466.980213  5.478346e+06  \n",
              "3               49.109708   6.188734       2  450541.906360  5.460750e+06  \n",
              "4               49.109899   6.187905       2  450481.554883  5.460772e+06  "
            ],
            "text/html": [
              "<div>\n",
              "<style scoped>\n",
              "    .dataframe tbody tr th:only-of-type {\n",
              "        vertical-align: middle;\n",
              "    }\n",
              "\n",
              "    .dataframe tbody tr th {\n",
              "        vertical-align: top;\n",
              "    }\n",
              "\n",
              "    .dataframe thead th {\n",
              "        text-align: right;\n",
              "    }\n",
              "</style>\n",
              "<table border=\"1\" class=\"dataframe\">\n",
              "  <thead>\n",
              "    <tr style=\"text-align: right;\">\n",
              "      <th></th>\n",
              "      <th>Nom</th>\n",
              "      <th>addresse_BAN</th>\n",
              "      <th>Qté totale</th>\n",
              "      <th>index</th>\n",
              "      <th>Prénom</th>\n",
              "      <th>Adresse</th>\n",
              "      <th>CP</th>\n",
              "      <th>Ville</th>\n",
              "      <th>Tel</th>\n",
              "      <th>Commentaires</th>\n",
              "      <th>latitude</th>\n",
              "      <th>longitude</th>\n",
              "      <th>Groupe</th>\n",
              "      <th>x</th>\n",
              "      <th>y</th>\n",
              "    </tr>\n",
              "  </thead>\n",
              "  <tbody>\n",
              "    <tr>\n",
              "      <th>0</th>\n",
              "      <td>Pêcheur</td>\n",
              "      <td>25 Rue Bellevue 57950 Montigny-lès-Metz</td>\n",
              "      <td>24</td>\n",
              "      <td>0</td>\n",
              "      <td>Martin</td>\n",
              "      <td>25 rue Bellevue</td>\n",
              "      <td>57950</td>\n",
              "      <td>Montigny-les-Metz</td>\n",
              "      <td>642905254</td>\n",
              "      <td>code 0849</td>\n",
              "      <td>49.102401</td>\n",
              "      <td>6.143209</td>\n",
              "      <td>2</td>\n",
              "      <td>447227.671124</td>\n",
              "      <td>5.459938e+06</td>\n",
              "    </tr>\n",
              "    <tr>\n",
              "      <th>1</th>\n",
              "      <td>LENNON</td>\n",
              "      <td>Rue du Moyen Pont 57000 Metz</td>\n",
              "      <td>12</td>\n",
              "      <td>1</td>\n",
              "      <td>John</td>\n",
              "      <td>5 rue du Moyen Pont</td>\n",
              "      <td>57000</td>\n",
              "      <td>METZ</td>\n",
              "      <td>639098802</td>\n",
              "      <td></td>\n",
              "      <td>49.119108</td>\n",
              "      <td>6.171286</td>\n",
              "      <td>1</td>\n",
              "      <td>449271.686121</td>\n",
              "      <td>5.461796e+06</td>\n",
              "    </tr>\n",
              "    <tr>\n",
              "      <th>2</th>\n",
              "      <td>KILMEISTER</td>\n",
              "      <td>32 Rue de Metz 57310 Bousse</td>\n",
              "      <td>12</td>\n",
              "      <td>2</td>\n",
              "      <td>Lemmy</td>\n",
              "      <td>32, rue de Metz</td>\n",
              "      <td>57310</td>\n",
              "      <td>BOUSSE</td>\n",
              "      <td>666097562</td>\n",
              "      <td></td>\n",
              "      <td>49.267948</td>\n",
              "      <td>6.201441</td>\n",
              "      <td>0</td>\n",
              "      <td>451466.980213</td>\n",
              "      <td>5.478346e+06</td>\n",
              "    </tr>\n",
              "    <tr>\n",
              "      <th>3</th>\n",
              "      <td>CASH</td>\n",
              "      <td>6 Rue des Trois Evêchés 57070 Metz</td>\n",
              "      <td>12</td>\n",
              "      <td>3</td>\n",
              "      <td>Johnny</td>\n",
              "      <td>6, rue des trois Évêchés</td>\n",
              "      <td>57070</td>\n",
              "      <td>METZ</td>\n",
              "      <td>622134456</td>\n",
              "      <td></td>\n",
              "      <td>49.109708</td>\n",
              "      <td>6.188734</td>\n",
              "      <td>2</td>\n",
              "      <td>450541.906360</td>\n",
              "      <td>5.460750e+06</td>\n",
              "    </tr>\n",
              "    <tr>\n",
              "      <th>4</th>\n",
              "      <td>RACLURE</td>\n",
              "      <td>4 Rue Turgot 57070 Metz</td>\n",
              "      <td>24</td>\n",
              "      <td>4</td>\n",
              "      <td>La</td>\n",
              "      <td>4 rue Turgot</td>\n",
              "      <td>57070</td>\n",
              "      <td>METZ</td>\n",
              "      <td>612844564</td>\n",
              "      <td></td>\n",
              "      <td>49.109899</td>\n",
              "      <td>6.187905</td>\n",
              "      <td>2</td>\n",
              "      <td>450481.554883</td>\n",
              "      <td>5.460772e+06</td>\n",
              "    </tr>\n",
              "  </tbody>\n",
              "</table>\n",
              "</div>"
            ]
          },
          "metadata": {}
        }
      ],
      "execution_count": 25,
      "metadata": {
        "execution": {
          "iopub.status.busy": "2020-04-21T13:45:41.939Z",
          "iopub.execute_input": "2020-04-21T13:45:41.942Z",
          "iopub.status.idle": "2020-04-21T13:45:41.952Z",
          "shell.execute_reply": "2020-04-21T13:45:41.972Z"
        }
      }
    },
    {
      "cell_type": "markdown",
      "source": [
        "On réalise le clustering"
      ],
      "metadata": {}
    },
    {
      "cell_type": "code",
      "source": [
        "tournees=[]\n",
        "for region, df_region in final_client.groupby('Groupe'):\n",
        "    \n",
        "    #df_region.to_csv('clients_tournee_' + str(region) + '.csv', sep=';')    \n",
        "    #path = solve_tsp(dist_map_gps, endpoints = (0,-1))\n",
        "    \n",
        "    df_array = df_region[['x', 'y']].to_numpy()\n",
        "    #pisciculture debut et fin\n",
        "    df_array = np.vstack(((pt_depart.iloc[0]['x'], pt_depart.iloc[0]['y']),df_array))\n",
        "    df_array = np.vstack((df_array, (pt_depart.iloc[0]['x'], pt_depart.iloc[0]['y'])))\n",
        "    dist_map = cdist(df_array, df_array)\n",
        "    path = solve_tsp(dist_map, endpoints = (0,-1))  \n",
        "    path_red = path[1:-1]\n",
        "    sorterIndex = dict(zip(path_red,range(1,len(path_red)+1)))\n",
        "    df_region_ordered = df_region.copy(deep=True)    \n",
        "    df_region_ordered['index'] = np.arange(1,len(path_red)+1)\n",
        "    df_region_ordered['order'] = df_region_ordered['index'].map(sorterIndex)    \n",
        "    df_region_ordered.sort_values(['order'], ascending=1, inplace=True)\n",
        "    df_region_ordered.reset_index(drop=True, inplace=True)            \n",
        "    df_region_reduced = df_region_ordered[[\"Nom\", \"Prénom\", \"Tel\", \"Adresse\", \"CP\", \"Ville\", \"Qté totale\"]]\n",
        "    df_region_reduced.to_csv('clients_tournee_' + str(int(region)) + '.csv', sep=';')\n",
        "    tournees.append(df_region_ordered)"
      ],
      "outputs": [],
      "execution_count": 26,
      "metadata": {
        "execution": {
          "iopub.status.busy": "2020-04-21T13:45:45.998Z",
          "iopub.execute_input": "2020-04-21T13:45:46.002Z",
          "iopub.status.idle": "2020-04-21T13:45:46.015Z",
          "shell.execute_reply": "2020-04-21T13:45:46.018Z"
        }
      }
    },
    {
      "cell_type": "code",
      "source": [
        "pt_depart['order'] = 0\n",
        "pt_depart['Groupe'] = 0\n",
        "final_client = pd.concat([pt_depart, final_client], ignore_index=True, join=\"inner\")\n",
        "\n",
        "for index, tournee in zip(range(len(tournees)),tournees):\n",
        "    tournees[index] = pd.concat([pt_depart, tournee], ignore_index=False, join=\"inner\")"
      ],
      "outputs": [],
      "execution_count": 27,
      "metadata": {
        "execution": {
          "iopub.status.busy": "2020-04-21T13:45:46.610Z",
          "iopub.execute_input": "2020-04-21T13:45:46.614Z",
          "iopub.status.idle": "2020-04-21T13:45:46.618Z",
          "shell.execute_reply": "2020-04-21T13:45:46.621Z"
        }
      }
    },
    {
      "cell_type": "code",
      "source": [
        "folium_map = folium.Map(location=[final_client['latitude'].mean(), \n",
        "                                    final_client['longitude'].mean()], \n",
        "                                    zoom_start=10, tiles='OpenStreetMap')\n",
        "\n",
        "folium.plugins.BoatMarker([final_client.iloc[0]['latitude'], final_client.iloc[0]['longitude']]).add_to(folium_map)\n",
        "\n",
        "Tournee_group=[]\n",
        "\n",
        "color_icons = ['red', 'blue', 'green', 'orange', 'darkblue', 'darkgreen', 'black', 'lightgreen', 'beige', 'pink', 'lightgray', 'lightred', 'purple', 'darkred', 'darkpurple', 'cadetblue', 'gray', 'lightblue']\n",
        "\n",
        "for number, tournee in zip(range(len(tournees)),tournees):\n",
        "\n",
        "    Tournee = FeatureGroup(name='Tournee'+str(int(number)))\n",
        "    for i in range(1,len(tournee)):\n",
        "\n",
        "        url='https://www.google.fr/maps/dir//' + \\\n",
        "        str(tournee.iloc[i]['latitude'])+ ',' + str(tournee.iloc[i]['longitude'])\n",
        "        address = str(tournee.iloc[i]['Adresse']) + \", \" + str(tournee.iloc[i]['CP']) + \", \" + str(tournee.iloc[i]['Ville'])\n",
        "        nom_prenom = str(tournee.iloc[i]['Nom']) + '\\t' + str(tournee.iloc[i]['Prénom'])\n",
        "        tel = '0' + str(tournee.iloc[i]['Tel'])\n",
        "        colis = str(tournee.iloc[i]['Qté totale']) + ' bieres'\n",
        "        commentaires = str(tournee.iloc[i]['Commentaires'])\n",
        "        lien = '<a href=' + url + '> Maps </a>'\n",
        "\n",
        "        popup_name = '<b>' + nom_prenom + '</b>' + '<br>' + str(address) + '<br>'  + tel + '<br>' + colis + '<br>' + commentaires + '<br>' + lien\n",
        "\n",
        "        popup = folium.Popup(popup_name, max_width=650)\n",
        "\n",
        "        icon_order = DivIcon(\n",
        "            icon_size=(150,36),\n",
        "            icon_anchor=(0,0),\n",
        "            html='<div style=\"font-size: 14pt\">' + str(int(tournee.iloc[i]['order'])) + '</div>',\n",
        "            )\n",
        "\n",
        "        icon = folium.map.Icon(color=color_icons[number%len(color_icons)])        \n",
        "        folium.Marker([tournee.iloc[i]['latitude'], tournee.iloc[i]['longitude']], icon=icon_order).add_to(Tournee)\n",
        "        folium.Marker([tournee.iloc[i]['latitude'], tournee.iloc[i]['longitude']], icon=icon, popup=popup).add_to(Tournee)\n",
        "        Tournee_group.append(Tournee)\n",
        "                           \n",
        "for tournee in Tournee_group:\n",
        "        folium_map.add_child(tournee)\n",
        "                           \n",
        "    #FastMarkerCluster(data=list(zip(df['latitude'].values, df['longitude'].values)), popup=df['addresse_tot']).add_to(folium_map)\n",
        "\n",
        "    #folium_map.add_child(feature_group)\n",
        "folium.LayerControl().add_to(folium_map)\n",
        "folium_map.save(\"map_tournees.html\")\n",
        "folium_map"
      ],
      "outputs": [
        {
          "output_type": "execute_result",
          "execution_count": 45,
          "data": {
            "text/plain": [
              "<folium.folium.Map at 0x12e4a23d0>"
            ],
            "text/html": [
              "<div style=\"width:100%;\"><div style=\"position:relative;width:100%;height:0;padding-bottom:60%;\"><iframe src=\"about:blank\" style=\"position:absolute;width:100%;height:100%;left:0;top:0;border:none !important;\" data-html=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 onload=\"this.contentDocument.open();this.contentDocument.write(atob(this.getAttribute('data-html')));this.contentDocument.close();\" allowfullscreen webkitallowfullscreen mozallowfullscreen></iframe></div></div>"
            ]
          },
          "metadata": {}
        }
      ],
      "execution_count": 45,
      "metadata": {
        "execution": {
          "iopub.status.busy": "2020-04-21T13:54:31.269Z",
          "iopub.execute_input": "2020-04-21T13:54:31.272Z",
          "iopub.status.idle": "2020-04-21T13:54:31.346Z",
          "shell.execute_reply": "2020-04-21T13:54:31.358Z"
        }
      }
    },
    {
      "cell_type": "code",
      "source": [],
      "outputs": [],
      "execution_count": null,
      "metadata": {}
    },
    {
      "cell_type": "code",
      "source": [],
      "outputs": [],
      "execution_count": null,
      "metadata": {}
    }
  ],
  "metadata": {
    "kernelspec": {
      "display_name": "Python 3",
      "language": "python",
      "name": "python3"
    },
    "language_info": {
      "name": "python",
      "version": "3.7.7",
      "mimetype": "text/x-python",
      "codemirror_mode": {
        "name": "ipython",
        "version": 3
      },
      "pygments_lexer": "ipython3",
      "nbconvert_exporter": "python",
      "file_extension": ".py"
    },
    "nteract": {
      "version": "0.22.4"
    }
  },
  "nbformat": 4,
  "nbformat_minor": 4
}