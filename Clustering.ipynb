{
  "cells": [
    {
      "cell_type": "markdown",
      "source": [
        "# Livraisons à domicile\n",
        "\n",
        "Ce fichier contient plusieurs étapes\n",
        "1. import de librairies essentielles\n",
        "2. Insertion du fichier csv de clients pour livraison\n",
        "3. Détermination de la position gps (geocoding)\n",
        "3. Traitement du fichier et des doublons\n",
        "4. Mise en place sur une carte\n",
        "\n",
        "### Pour déterminer l'ordre des livraisons il faut ajouter l'adresse ci-dessous de la livraison\n",
        "-----"
      ],
      "metadata": {}
    },
    {
      "cell_type": "code",
      "source": [
        "Nom_Magasin = 'MAGASIN'\n",
        "Prenom_Magasin = 'QUIVABIEN'\n",
        "Adresse_Magasin = '71, en Fournirue'\n",
        "CP_Magasin = 57000\n",
        "Ville_Magasin = 'Metz'"
      ],
      "outputs": [],
      "execution_count": 14,
      "metadata": {
        "collapsed": true,
        "outputExpanded": false,
        "jupyter": {
          "source_hidden": false,
          "outputs_hidden": false
        },
        "nteract": {
          "transient": {
            "deleting": false
          }
        },
        "execution": {
          "iopub.status.busy": "2020-04-18T21:43:05.860Z",
          "iopub.execute_input": "2020-04-18T21:43:05.864Z",
          "iopub.status.idle": "2020-04-18T21:43:05.870Z",
          "shell.execute_reply": "2020-04-18T21:43:05.874Z"
        }
      }
    },
    {
      "cell_type": "markdown",
      "source": [
        "---\n",
        "\n",
        "Il faut ensuite cliquer sur upload et charger le fichier \".csv\" qui "
      ],
      "metadata": {
        "nteract": {
          "transient": {
            "deleting": false
          }
        }
      }
    },
    {
      "cell_type": "code",
      "source": [
        "fichier = 'Livraison_Metz_20_04.csv'"
      ],
      "outputs": [],
      "execution_count": 15,
      "metadata": {
        "collapsed": true,
        "outputExpanded": false,
        "jupyter": {
          "source_hidden": false,
          "outputs_hidden": false
        },
        "nteract": {
          "transient": {
            "deleting": false
          }
        },
        "execution": {
          "iopub.status.busy": "2020-04-18T21:43:06.665Z",
          "iopub.execute_input": "2020-04-18T21:43:06.669Z",
          "iopub.status.idle": "2020-04-18T21:43:06.674Z",
          "shell.execute_reply": "2020-04-18T21:43:06.677Z"
        }
      }
    },
    {
      "cell_type": "markdown",
      "source": [
        "---"
      ],
      "metadata": {
        "nteract": {
          "transient": {
            "deleting": false
          }
        }
      }
    },
    {
      "cell_type": "code",
      "source": [
        "import pylab\n",
        "import pandas as pd\n",
        "import geopandas as gpd\n",
        "import geopy\n",
        "from geopy.geocoders import Nominatim, GoogleV3, IGNFrance, BANFrance\n",
        "from geopy.extra.rate_limiter import RateLimiter\n",
        "import matplotlib.pyplot as plt\n",
        "import folium\n",
        "from folium import plugins, IFrame\n",
        "from folium.features import *\n",
        "\n",
        "import random\n",
        "import csv\n",
        "import simplekml\n",
        "\n",
        "from pyroutelib3 import Router\n",
        "import numpy as np\n",
        "\n",
        "from scipy.spatial import distance_matrix\n",
        "from scipy.spatial.distance import cdist\n",
        "from scipy.sparse.csgraph import shortest_path\n",
        "\n",
        "from tsp_solver.greedy import solve_tsp\n",
        "\n",
        "pylab.rcParams['figure.figsize'] = (24.0, 12.0) #configure the figure\n",
        "\n",
        "def lon_lat_to_xy(lon, lat, R = 6371000.0):\n",
        "    \"\"\"\n",
        "    calculates lon, lat coordinates of a point on a sphere with\n",
        "    radius R\n",
        "    \"\"\"\n",
        "    lon_r = np.radians(lon)\n",
        "    lat_r = np.radians(lat)\n",
        "\n",
        "    x =  R * np.cos(lat_r[0]) * lon_r\n",
        "    y = R * lat_r\n",
        "    return x,y\n",
        "\n",
        "def get_distance(routeLatLons):\n",
        "    \n",
        "    data = []\n",
        "    for iter, point in enumerate(routeLatLons):\n",
        "        data.append([point[0], point[1]])\n",
        "    \n",
        "    columns = ['Latitude', 'Longitude']\n",
        "    temp = pd.DataFrame(data, columns=columns)\n",
        "    \n",
        "    x_temp,y_temp = lon_lat_to_xy(temp['Longitude'], temp['Latitude'], R = 6371000.0)\n",
        "    x = x_temp - x_temp[0]\n",
        "    y = y_temp - y_temp[0]\n",
        "    d_x = np.diff(x)\n",
        "    d_y = np.diff(y)\n",
        "    ds = np.sqrt(d_x*d_x + d_y*d_y) \n",
        "    return np.sum(ds)"
      ],
      "outputs": [],
      "execution_count": 16,
      "metadata": {
        "execution": {
          "iopub.status.busy": "2020-04-18T21:43:07.549Z",
          "iopub.execute_input": "2020-04-18T21:43:07.553Z",
          "iopub.status.idle": "2020-04-18T21:43:07.558Z",
          "shell.execute_reply": "2020-04-18T21:43:07.567Z"
        }
      }
    },
    {
      "cell_type": "markdown",
      "source": [
        "Dans la cellule suivante, vous pouvez modifier l'adresse de livraison de départ:"
      ],
      "metadata": {
        "nteract": {
          "transient": {
            "deleting": false
          }
        }
      }
    },
    {
      "cell_type": "code",
      "source": [
        "pt_depart = pd.DataFrame({'Nº' : 0, 'Type':['L'], 'Nom':[Nom_Magasin], 'Prénom':[Prenom_Magasin], 'Adresse':[Adresse_Magasin], 'CP':[CP_Magasin], 'Ville':[Ville_Magasin], \"Qté totale\":['1000000'], 'Tel' : ['06660'], 'Commentaires' :['']})\n",
        "\n",
        "#On affiche l'adresse totale\n",
        "pt_depart['addresse_tot'] = pt_depart['Adresse'].astype(str) + ',' + \\\n",
        "                pt_depart['CP'].astype(str) + ',' + \\\n",
        "                pt_depart['Ville'].astype(str) + ', France'\n",
        "\n",
        "locator = BANFrance()\n",
        "geocode = RateLimiter(locator.geocode, min_delay_seconds=0.1)\n",
        "pt_depart['location'] = pt_depart['addresse_tot'].apply(geocode)\n",
        "#On rajoute un point avec des valeurs nulles\n",
        "pt_depart['point'] = pt_depart['location'].apply(lambda loc: tuple(loc.point) if loc else None)\n",
        "\n",
        "#On sépare ensuite l'objet point en latitude, longitude et altitude\n",
        "pt_depart[['latitude', 'longitude', 'altitude']] = pd.DataFrame(pt_depart['point'].tolist(), index=pt_depart.index)"
      ],
      "outputs": [],
      "execution_count": 17,
      "metadata": {
        "collapsed": true,
        "outputExpanded": false,
        "jupyter": {
          "source_hidden": false,
          "outputs_hidden": false
        },
        "nteract": {
          "transient": {
            "deleting": false
          }
        },
        "execution": {
          "iopub.status.busy": "2020-04-18T21:43:08.466Z",
          "iopub.execute_input": "2020-04-18T21:43:08.470Z",
          "iopub.status.idle": "2020-04-18T21:43:08.607Z",
          "shell.execute_reply": "2020-04-18T21:43:08.611Z"
        }
      }
    },
    {
      "cell_type": "code",
      "source": [
        "df = pd.read_csv(fichier, sep=';')\n",
        "df.columns\n",
        "df.dropna(subset=['Nº'], inplace=True)\n",
        "df['CP'] = df['CP'].astype('int')\n",
        "df['Nº'] = df['Nº'].astype('int')\n",
        "df['Tel'] = df['Tel'].astype('str')\n",
        "df['Tel'] = df['Tel'].str.replace(' ','')\n",
        "df['Tel'] = df['Tel'].astype('int')\n",
        "df['Qté totale'] = df['Qté totale'].astype('int')\n",
        "df['Commentaires'] = df['Commentaires'].replace(np.nan, '', regex=True)\n",
        "df['Type'] = df['Type'].apply(lambda x: x[0])\n",
        "\n",
        "liv = df.loc[df['Type'] == 'L']\n",
        "liv = liv.copy(deep=True)\n",
        "try:\n",
        "    groupes = pd.read_csv(\"groupes.csv\", sep=';')\n",
        "    liv = liv.merge(groupes, on=['CP'])\n",
        "except:\n",
        "    liv['Groupe'] = 1\n",
        "liv['Groupe'] = liv['Groupe'].astype('int')"
      ],
      "outputs": [
        {
          "output_type": "error",
          "ename": "AttributeError",
          "evalue": "Can only use .str accessor with string values!",
          "traceback": [
            "\u001b[0;31m---------------------------------------------------------------------------\u001b[0m",
            "\u001b[0;31mAttributeError\u001b[0m                            Traceback (most recent call last)",
            "\u001b[0;32m<ipython-input-19-4c5370ced3b8>\u001b[0m in \u001b[0;36m<module>\u001b[0;34m\u001b[0m\n\u001b[1;32m      4\u001b[0m \u001b[0mdf\u001b[0m\u001b[0;34m[\u001b[0m\u001b[0;34m'CP'\u001b[0m\u001b[0;34m]\u001b[0m \u001b[0;34m=\u001b[0m \u001b[0mdf\u001b[0m\u001b[0;34m[\u001b[0m\u001b[0;34m'CP'\u001b[0m\u001b[0;34m]\u001b[0m\u001b[0;34m.\u001b[0m\u001b[0mastype\u001b[0m\u001b[0;34m(\u001b[0m\u001b[0;34m'int'\u001b[0m\u001b[0;34m)\u001b[0m\u001b[0;34m\u001b[0m\u001b[0;34m\u001b[0m\u001b[0m\n\u001b[1;32m      5\u001b[0m \u001b[0mdf\u001b[0m\u001b[0;34m[\u001b[0m\u001b[0;34m'Nº'\u001b[0m\u001b[0;34m]\u001b[0m \u001b[0;34m=\u001b[0m \u001b[0mdf\u001b[0m\u001b[0;34m[\u001b[0m\u001b[0;34m'Nº'\u001b[0m\u001b[0;34m]\u001b[0m\u001b[0;34m.\u001b[0m\u001b[0mastype\u001b[0m\u001b[0;34m(\u001b[0m\u001b[0;34m'int'\u001b[0m\u001b[0;34m)\u001b[0m\u001b[0;34m\u001b[0m\u001b[0;34m\u001b[0m\u001b[0m\n\u001b[0;32m----> 6\u001b[0;31m \u001b[0mdf\u001b[0m\u001b[0;34m[\u001b[0m\u001b[0;34m'Tel'\u001b[0m\u001b[0;34m]\u001b[0m \u001b[0;34m=\u001b[0m \u001b[0mdf\u001b[0m\u001b[0;34m[\u001b[0m\u001b[0;34m'Tel'\u001b[0m\u001b[0;34m]\u001b[0m\u001b[0;34m.\u001b[0m\u001b[0mstr\u001b[0m\u001b[0;34m.\u001b[0m\u001b[0mreplace\u001b[0m\u001b[0;34m(\u001b[0m\u001b[0;34m' '\u001b[0m\u001b[0;34m,\u001b[0m\u001b[0;34m''\u001b[0m\u001b[0;34m)\u001b[0m\u001b[0;34m\u001b[0m\u001b[0;34m\u001b[0m\u001b[0m\n\u001b[0m\u001b[1;32m      7\u001b[0m \u001b[0mdf\u001b[0m\u001b[0;34m[\u001b[0m\u001b[0;34m'Tel'\u001b[0m\u001b[0;34m]\u001b[0m \u001b[0;34m=\u001b[0m \u001b[0mdf\u001b[0m\u001b[0;34m[\u001b[0m\u001b[0;34m'Tel'\u001b[0m\u001b[0;34m]\u001b[0m\u001b[0;34m.\u001b[0m\u001b[0mastype\u001b[0m\u001b[0;34m(\u001b[0m\u001b[0;34m'int'\u001b[0m\u001b[0;34m)\u001b[0m\u001b[0;34m\u001b[0m\u001b[0;34m\u001b[0m\u001b[0m\n\u001b[1;32m      8\u001b[0m \u001b[0mdf\u001b[0m\u001b[0;34m[\u001b[0m\u001b[0;34m'Qté totale'\u001b[0m\u001b[0;34m]\u001b[0m \u001b[0;34m=\u001b[0m \u001b[0mdf\u001b[0m\u001b[0;34m[\u001b[0m\u001b[0;34m'Qté totale'\u001b[0m\u001b[0;34m]\u001b[0m\u001b[0;34m.\u001b[0m\u001b[0mastype\u001b[0m\u001b[0;34m(\u001b[0m\u001b[0;34m'int'\u001b[0m\u001b[0;34m)\u001b[0m\u001b[0;34m\u001b[0m\u001b[0;34m\u001b[0m\u001b[0m\n",
            "\u001b[0;32m/usr/local/lib/python3.7/site-packages/pandas/core/generic.py\u001b[0m in \u001b[0;36m__getattr__\u001b[0;34m(self, name)\u001b[0m\n\u001b[1;32m   5268\u001b[0m             \u001b[0;32mor\u001b[0m \u001b[0mname\u001b[0m \u001b[0;32min\u001b[0m \u001b[0mself\u001b[0m\u001b[0;34m.\u001b[0m\u001b[0m_accessors\u001b[0m\u001b[0;34m\u001b[0m\u001b[0;34m\u001b[0m\u001b[0m\n\u001b[1;32m   5269\u001b[0m         ):\n\u001b[0;32m-> 5270\u001b[0;31m             \u001b[0;32mreturn\u001b[0m \u001b[0mobject\u001b[0m\u001b[0;34m.\u001b[0m\u001b[0m__getattribute__\u001b[0m\u001b[0;34m(\u001b[0m\u001b[0mself\u001b[0m\u001b[0;34m,\u001b[0m \u001b[0mname\u001b[0m\u001b[0;34m)\u001b[0m\u001b[0;34m\u001b[0m\u001b[0;34m\u001b[0m\u001b[0m\n\u001b[0m\u001b[1;32m   5271\u001b[0m         \u001b[0;32melse\u001b[0m\u001b[0;34m:\u001b[0m\u001b[0;34m\u001b[0m\u001b[0;34m\u001b[0m\u001b[0m\n\u001b[1;32m   5272\u001b[0m             \u001b[0;32mif\u001b[0m \u001b[0mself\u001b[0m\u001b[0;34m.\u001b[0m\u001b[0m_info_axis\u001b[0m\u001b[0;34m.\u001b[0m\u001b[0m_can_hold_identifiers_and_holds_name\u001b[0m\u001b[0;34m(\u001b[0m\u001b[0mname\u001b[0m\u001b[0;34m)\u001b[0m\u001b[0;34m:\u001b[0m\u001b[0;34m\u001b[0m\u001b[0;34m\u001b[0m\u001b[0m\n",
            "\u001b[0;32m/usr/local/lib/python3.7/site-packages/pandas/core/accessor.py\u001b[0m in \u001b[0;36m__get__\u001b[0;34m(self, obj, cls)\u001b[0m\n\u001b[1;32m    185\u001b[0m             \u001b[0;31m# we're accessing the attribute of the class, i.e., Dataset.geo\u001b[0m\u001b[0;34m\u001b[0m\u001b[0;34m\u001b[0m\u001b[0;34m\u001b[0m\u001b[0m\n\u001b[1;32m    186\u001b[0m             \u001b[0;32mreturn\u001b[0m \u001b[0mself\u001b[0m\u001b[0;34m.\u001b[0m\u001b[0m_accessor\u001b[0m\u001b[0;34m\u001b[0m\u001b[0;34m\u001b[0m\u001b[0m\n\u001b[0;32m--> 187\u001b[0;31m         \u001b[0maccessor_obj\u001b[0m \u001b[0;34m=\u001b[0m \u001b[0mself\u001b[0m\u001b[0;34m.\u001b[0m\u001b[0m_accessor\u001b[0m\u001b[0;34m(\u001b[0m\u001b[0mobj\u001b[0m\u001b[0;34m)\u001b[0m\u001b[0;34m\u001b[0m\u001b[0;34m\u001b[0m\u001b[0m\n\u001b[0m\u001b[1;32m    188\u001b[0m         \u001b[0;31m# Replace the property with the accessor object. Inspired by:\u001b[0m\u001b[0;34m\u001b[0m\u001b[0;34m\u001b[0m\u001b[0;34m\u001b[0m\u001b[0m\n\u001b[1;32m    189\u001b[0m         \u001b[0;31m# http://www.pydanny.com/cached-property.html\u001b[0m\u001b[0;34m\u001b[0m\u001b[0;34m\u001b[0m\u001b[0;34m\u001b[0m\u001b[0m\n",
            "\u001b[0;32m/usr/local/lib/python3.7/site-packages/pandas/core/strings.py\u001b[0m in \u001b[0;36m__init__\u001b[0;34m(self, data)\u001b[0m\n\u001b[1;32m   2037\u001b[0m \u001b[0;34m\u001b[0m\u001b[0m\n\u001b[1;32m   2038\u001b[0m     \u001b[0;32mdef\u001b[0m \u001b[0m__init__\u001b[0m\u001b[0;34m(\u001b[0m\u001b[0mself\u001b[0m\u001b[0;34m,\u001b[0m \u001b[0mdata\u001b[0m\u001b[0;34m)\u001b[0m\u001b[0;34m:\u001b[0m\u001b[0;34m\u001b[0m\u001b[0;34m\u001b[0m\u001b[0m\n\u001b[0;32m-> 2039\u001b[0;31m         \u001b[0mself\u001b[0m\u001b[0;34m.\u001b[0m\u001b[0m_inferred_dtype\u001b[0m \u001b[0;34m=\u001b[0m \u001b[0mself\u001b[0m\u001b[0;34m.\u001b[0m\u001b[0m_validate\u001b[0m\u001b[0;34m(\u001b[0m\u001b[0mdata\u001b[0m\u001b[0;34m)\u001b[0m\u001b[0;34m\u001b[0m\u001b[0;34m\u001b[0m\u001b[0m\n\u001b[0m\u001b[1;32m   2040\u001b[0m         \u001b[0mself\u001b[0m\u001b[0;34m.\u001b[0m\u001b[0m_is_categorical\u001b[0m \u001b[0;34m=\u001b[0m \u001b[0mis_categorical_dtype\u001b[0m\u001b[0;34m(\u001b[0m\u001b[0mdata\u001b[0m\u001b[0;34m)\u001b[0m\u001b[0;34m\u001b[0m\u001b[0;34m\u001b[0m\u001b[0m\n\u001b[1;32m   2041\u001b[0m         \u001b[0mself\u001b[0m\u001b[0;34m.\u001b[0m\u001b[0m_is_string\u001b[0m \u001b[0;34m=\u001b[0m \u001b[0mdata\u001b[0m\u001b[0;34m.\u001b[0m\u001b[0mdtype\u001b[0m\u001b[0;34m.\u001b[0m\u001b[0mname\u001b[0m \u001b[0;34m==\u001b[0m \u001b[0;34m\"string\"\u001b[0m\u001b[0;34m\u001b[0m\u001b[0;34m\u001b[0m\u001b[0m\n",
            "\u001b[0;32m/usr/local/lib/python3.7/site-packages/pandas/core/strings.py\u001b[0m in \u001b[0;36m_validate\u001b[0;34m(data)\u001b[0m\n\u001b[1;32m   2094\u001b[0m \u001b[0;34m\u001b[0m\u001b[0m\n\u001b[1;32m   2095\u001b[0m         \u001b[0;32mif\u001b[0m \u001b[0minferred_dtype\u001b[0m \u001b[0;32mnot\u001b[0m \u001b[0;32min\u001b[0m \u001b[0mallowed_types\u001b[0m\u001b[0;34m:\u001b[0m\u001b[0;34m\u001b[0m\u001b[0;34m\u001b[0m\u001b[0m\n\u001b[0;32m-> 2096\u001b[0;31m             \u001b[0;32mraise\u001b[0m \u001b[0mAttributeError\u001b[0m\u001b[0;34m(\u001b[0m\u001b[0;34m\"Can only use .str accessor with string values!\"\u001b[0m\u001b[0;34m)\u001b[0m\u001b[0;34m\u001b[0m\u001b[0;34m\u001b[0m\u001b[0m\n\u001b[0m\u001b[1;32m   2097\u001b[0m         \u001b[0;32mreturn\u001b[0m \u001b[0minferred_dtype\u001b[0m\u001b[0;34m\u001b[0m\u001b[0;34m\u001b[0m\u001b[0m\n\u001b[1;32m   2098\u001b[0m \u001b[0;34m\u001b[0m\u001b[0m\n",
            "\u001b[0;31mAttributeError\u001b[0m: Can only use .str accessor with string values!"
          ]
        }
      ],
      "execution_count": 19,
      "metadata": {
        "collapsed": true,
        "outputExpanded": false,
        "jupyter": {
          "source_hidden": false,
          "outputs_hidden": false
        },
        "nteract": {
          "transient": {
            "deleting": false
          }
        },
        "execution": {
          "iopub.status.busy": "2020-04-18T21:43:13.890Z",
          "iopub.execute_input": "2020-04-18T21:43:13.894Z",
          "iopub.status.idle": "2020-04-18T21:43:13.904Z",
          "shell.execute_reply": "2020-04-18T21:43:13.922Z"
        }
      }
    },
    {
      "cell_type": "code",
      "source": [
        "#On affiche l'adresse totale\n",
        "liv['addresse_tot'] = liv['Adresse'].astype(str) + ',' + \\\n",
        "                liv['CP'].astype(str) + ',' + \\\n",
        "                liv['Ville'].astype(str) + ', France'   \n",
        "\n",
        "#En utilisant un $locator de geopy, on trouve l'adresse et la position\n",
        "locator = BANFrance()\n",
        "geocode = RateLimiter(locator.geocode, min_delay_seconds=0.1)\n",
        "liv['location'] = liv['addresse_tot'].apply(geocode)\n",
        "#On rajoute un point avec des valeurs nulles\n",
        "liv['point'] = liv['location'].apply(lambda loc: tuple(loc.point) if loc else None)\n",
        "\n",
        "#On sépare ensuite l'objet point en latitude, longitude et altitude\n",
        "liv[['latitude', 'longitude', 'altitude']] = pd.DataFrame(liv['point'].tolist(), index=liv.index)"
      ],
      "outputs": [],
      "execution_count": 6,
      "metadata": {
        "execution": {
          "iopub.status.busy": "2020-04-18T21:42:27.220Z",
          "iopub.execute_input": "2020-04-18T21:42:27.223Z",
          "iopub.status.idle": "2020-04-18T21:42:27.426Z",
          "shell.execute_reply": "2020-04-18T21:42:27.430Z"
        }
      }
    },
    {
      "cell_type": "code",
      "source": [
        "#On ajoute l'adresse exacte dans un champ \n",
        "liv['index'] = np.arange(len(liv))\n",
        "liv['addresse_BAN'] = liv.location.astype(str)\n",
        "liv['addresse_BAN'] = liv['addresse_BAN'].str.split(',', n = 1)\n",
        "liv.addresse_BAN = liv.addresse_BAN.str[0]\n",
        "#On sépare les commandes\n",
        "liv.addresse_BAN[liv.addresse_BAN.duplicated()].head()\n",
        "liv['Prénom'].fillna('', inplace=True)\n",
        "\n",
        "#dupli = df.duplicated(['addresse_BAN'])\n",
        "dupli = liv[liv.duplicated(['Nom', 'addresse_BAN'], keep=False)]\n",
        "\n",
        "df2 = liv.groupby(['Nom','addresse_BAN'], as_index=False)[[\"Qté totale\"]].sum()\n",
        "df3 = liv.drop_duplicates(subset =['Nom','addresse_BAN'], keep =\"first\", inplace = False)\n",
        "mergedDf = df2.merge(df3[['index','Nom','Prénom','Adresse','CP','Ville','addresse_BAN','Tel','Commentaires','latitude', 'longitude','Qté totale','Groupe']], on=['Nom','addresse_BAN','Qté totale'])\n",
        "\n",
        "mergedDf.sort_values(['index'], ascending=1, inplace=True)\n",
        "mergedDf.reset_index(drop=True, inplace=True)\n",
        "\n",
        "print(dupli)"
      ],
      "outputs": [
        {
          "output_type": "stream",
          "name": "stdout",
          "text": [
            "Empty DataFrame\n",
            "Columns: [Nº, Type, Commentaires, Prénom, Nom, Tel, Adresse, Ville, CP, Qté totale, Groupe, addresse_tot, location, point, latitude, longitude, altitude, index, addresse_BAN]\n",
            "Index: []\n"
          ]
        }
      ],
      "execution_count": 7,
      "metadata": {
        "execution": {
          "iopub.status.busy": "2020-04-18T21:42:27.440Z",
          "iopub.execute_input": "2020-04-18T21:42:27.444Z",
          "iopub.status.idle": "2020-04-18T21:42:27.457Z",
          "shell.execute_reply": "2020-04-18T21:42:27.477Z"
        }
      }
    },
    {
      "cell_type": "code",
      "source": [
        "pt_depart['x'], pt_depart['y'] = lon_lat_to_xy(pt_depart['longitude'], pt_depart['latitude'], R = 6371000.0)\n",
        "mergedDf['x'], mergedDf['y'] = lon_lat_to_xy(mergedDf['longitude'], mergedDf['latitude'], R = 6371000.0)\n",
        "df_array = mergedDf[['x', 'y']].to_numpy()\n",
        "dist_map = cdist(df_array, df_array)\n",
        "pd.DataFrame(dist_map)[0].values\n",
        "to_drop = np.argwhere(pd.DataFrame(dist_map)[0].values > 1.E5)\n",
        "\n",
        "#df_lat_nulle = mergedDf[mergedDf['latitude'].isnull()]\n",
        "df_lat_nulle = mergedDf[mergedDf['latitude'].isna()]\n",
        "for value in to_drop.flatten():\n",
        "    value_int = int(value)\n",
        "    df_lat_nulle = df_lat_nulle.append(mergedDf.iloc[value_int]) \n",
        "    #mergedDf.drop([value_int])       \n",
        "\n",
        "df_lat_nulle.drop_duplicates(subset ='addresse_BAN', keep =\"first\", inplace = True)\n",
        "\n",
        "final_client = pd.concat([mergedDf, df_lat_nulle, df_lat_nulle]).drop_duplicates(keep=False)\n",
        "df_lat_nulle.to_csv('clients_erreur.csv', sep=';')\n",
        "final_client.to_csv('clients_correct.csv', sep=';')\n",
        "\n",
        "#final_client['commande'] = final_client[['Qté totale']].apply(lambda x: x%3, axis=1)"
      ],
      "outputs": [],
      "execution_count": 8,
      "metadata": {
        "execution": {
          "iopub.status.busy": "2020-04-18T21:42:27.471Z",
          "iopub.execute_input": "2020-04-18T21:42:27.474Z",
          "iopub.status.idle": "2020-04-18T21:42:27.488Z",
          "shell.execute_reply": "2020-04-18T21:42:27.480Z"
        }
      }
    },
    {
      "cell_type": "code",
      "source": [
        "final_client"
      ],
      "outputs": [
        {
          "output_type": "execute_result",
          "execution_count": 9,
          "data": {
            "text/plain": [
              "       Nom                             addresse_BAN  Qté totale  index  \\\n",
              "0  Pêcheur  25 Rue Bellevue 57950 Montigny-lès-Metz          24      0   \n",
              "\n",
              "   Prénom          Adresse     CP              Ville        Tel Commentaires  \\\n",
              "0  Martin  25 rue Bellevue  57950  Montigny-les-Metz  642905228    code 0849   \n",
              "\n",
              "    latitude  longitude  Groupe              x             y  \n",
              "0  49.102401   6.143209       2  447227.671124  5.459938e+06  "
            ],
            "text/html": [
              "<div>\n",
              "<style scoped>\n",
              "    .dataframe tbody tr th:only-of-type {\n",
              "        vertical-align: middle;\n",
              "    }\n",
              "\n",
              "    .dataframe tbody tr th {\n",
              "        vertical-align: top;\n",
              "    }\n",
              "\n",
              "    .dataframe thead th {\n",
              "        text-align: right;\n",
              "    }\n",
              "</style>\n",
              "<table border=\"1\" class=\"dataframe\">\n",
              "  <thead>\n",
              "    <tr style=\"text-align: right;\">\n",
              "      <th></th>\n",
              "      <th>Nom</th>\n",
              "      <th>addresse_BAN</th>\n",
              "      <th>Qté totale</th>\n",
              "      <th>index</th>\n",
              "      <th>Prénom</th>\n",
              "      <th>Adresse</th>\n",
              "      <th>CP</th>\n",
              "      <th>Ville</th>\n",
              "      <th>Tel</th>\n",
              "      <th>Commentaires</th>\n",
              "      <th>latitude</th>\n",
              "      <th>longitude</th>\n",
              "      <th>Groupe</th>\n",
              "      <th>x</th>\n",
              "      <th>y</th>\n",
              "    </tr>\n",
              "  </thead>\n",
              "  <tbody>\n",
              "    <tr>\n",
              "      <th>0</th>\n",
              "      <td>Pêcheur</td>\n",
              "      <td>25 Rue Bellevue 57950 Montigny-lès-Metz</td>\n",
              "      <td>24</td>\n",
              "      <td>0</td>\n",
              "      <td>Martin</td>\n",
              "      <td>25 rue Bellevue</td>\n",
              "      <td>57950</td>\n",
              "      <td>Montigny-les-Metz</td>\n",
              "      <td>642905228</td>\n",
              "      <td>code 0849</td>\n",
              "      <td>49.102401</td>\n",
              "      <td>6.143209</td>\n",
              "      <td>2</td>\n",
              "      <td>447227.671124</td>\n",
              "      <td>5.459938e+06</td>\n",
              "    </tr>\n",
              "  </tbody>\n",
              "</table>\n",
              "</div>"
            ]
          },
          "metadata": {}
        }
      ],
      "execution_count": 9,
      "metadata": {
        "execution": {
          "iopub.status.busy": "2020-04-18T21:42:27.493Z",
          "iopub.execute_input": "2020-04-18T21:42:27.497Z",
          "iopub.status.idle": "2020-04-18T21:42:27.506Z",
          "shell.execute_reply": "2020-04-18T21:42:27.572Z"
        }
      }
    },
    {
      "cell_type": "markdown",
      "source": [
        "On réalise le clustering"
      ],
      "metadata": {}
    },
    {
      "cell_type": "code",
      "source": [
        "tournees=[]\n",
        "for region, df_region in final_client.groupby('Groupe'):\n",
        "    \n",
        "    #df_region.to_csv('clients_tournee_' + str(region) + '.csv', sep=';')    \n",
        "    #path = solve_tsp(dist_map_gps, endpoints = (0,-1))\n",
        "    \n",
        "    df_array = df_region[['x', 'y']].to_numpy()\n",
        "    #pisciculture debut et fin\n",
        "    df_array = np.vstack(((pt_depart.iloc[0]['x'], pt_depart.iloc[0]['y']),df_array))\n",
        "    df_array = np.vstack((df_array, (pt_depart.iloc[0]['x'], pt_depart.iloc[0]['y'])))\n",
        "    dist_map = cdist(df_array, df_array)\n",
        "    path = solve_tsp(dist_map, endpoints = (0,-1))  \n",
        "    path_red = path[1:-1]\n",
        "    sorterIndex = dict(zip(path_red,range(1,len(path_red)+1)))\n",
        "    df_region_ordered = df_region.copy(deep=True)    \n",
        "    df_region_ordered['index'] = np.arange(1,len(path_red)+1)\n",
        "    df_region_ordered['order'] = df_region_ordered['index'].map(sorterIndex)    \n",
        "    df_region_ordered.sort_values(['order'], ascending=1, inplace=True)\n",
        "    df_region_ordered.reset_index(drop=True, inplace=True)            \n",
        "    df_region_reduced = df_region_ordered[[\"Nom\", \"Prénom\", \"Tel\", \"Adresse\", \"CP\", \"Ville\", \"Qté totale\"]]\n",
        "    df_region_reduced.to_csv('clients_tournee_' + str(int(region)) + '.csv', sep=';')\n",
        "    tournees.append(df_region_ordered)"
      ],
      "outputs": [],
      "execution_count": 10,
      "metadata": {
        "execution": {
          "iopub.status.busy": "2020-04-18T21:42:27.512Z",
          "iopub.execute_input": "2020-04-18T21:42:27.515Z",
          "iopub.status.idle": "2020-04-18T21:42:27.520Z",
          "shell.execute_reply": "2020-04-18T21:42:27.575Z"
        }
      }
    },
    {
      "cell_type": "code",
      "source": [
        "pt_depart['order'] = 0\n",
        "pt_depart['Groupe'] = 0\n",
        "final_client = pd.concat([pt_depart, final_client], ignore_index=True, join=\"inner\")\n",
        "\n",
        "for index, tournee in zip(range(len(tournees)),tournees):\n",
        "    tournees[index] = pd.concat([pt_depart, tournee], ignore_index=False, join=\"inner\")"
      ],
      "outputs": [],
      "execution_count": 11,
      "metadata": {
        "execution": {
          "iopub.status.busy": "2020-04-18T21:42:27.525Z",
          "iopub.execute_input": "2020-04-18T21:42:27.529Z",
          "iopub.status.idle": "2020-04-18T21:42:27.533Z",
          "shell.execute_reply": "2020-04-18T21:42:27.578Z"
        }
      }
    },
    {
      "cell_type": "code",
      "source": [
        "tournees[0]\n"
      ],
      "outputs": [
        {
          "output_type": "execute_result",
          "execution_count": 12,
          "data": {
            "text/plain": [
              "       Nom     Prénom           Adresse     CP              Ville Qté totale  \\\n",
              "0  MAGASIN  QUIVABIEN  71, en Fournirue  57000               Metz    1000000   \n",
              "0  Pêcheur     Martin   25 rue Bellevue  57950  Montigny-les-Metz         24   \n",
              "\n",
              "         Tel Commentaires   latitude  longitude              x             y  \\\n",
              "0      06660               49.117623   6.179245  449713.105979  5.461630e+06   \n",
              "0  642905228    code 0849  49.102401   6.143209  447227.671124  5.459938e+06   \n",
              "\n",
              "   order  Groupe  \n",
              "0      0       0  \n",
              "0      1       2  "
            ],
            "text/html": [
              "<div>\n",
              "<style scoped>\n",
              "    .dataframe tbody tr th:only-of-type {\n",
              "        vertical-align: middle;\n",
              "    }\n",
              "\n",
              "    .dataframe tbody tr th {\n",
              "        vertical-align: top;\n",
              "    }\n",
              "\n",
              "    .dataframe thead th {\n",
              "        text-align: right;\n",
              "    }\n",
              "</style>\n",
              "<table border=\"1\" class=\"dataframe\">\n",
              "  <thead>\n",
              "    <tr style=\"text-align: right;\">\n",
              "      <th></th>\n",
              "      <th>Nom</th>\n",
              "      <th>Prénom</th>\n",
              "      <th>Adresse</th>\n",
              "      <th>CP</th>\n",
              "      <th>Ville</th>\n",
              "      <th>Qté totale</th>\n",
              "      <th>Tel</th>\n",
              "      <th>Commentaires</th>\n",
              "      <th>latitude</th>\n",
              "      <th>longitude</th>\n",
              "      <th>x</th>\n",
              "      <th>y</th>\n",
              "      <th>order</th>\n",
              "      <th>Groupe</th>\n",
              "    </tr>\n",
              "  </thead>\n",
              "  <tbody>\n",
              "    <tr>\n",
              "      <th>0</th>\n",
              "      <td>MAGASIN</td>\n",
              "      <td>QUIVABIEN</td>\n",
              "      <td>71, en Fournirue</td>\n",
              "      <td>57000</td>\n",
              "      <td>Metz</td>\n",
              "      <td>1000000</td>\n",
              "      <td>06660</td>\n",
              "      <td></td>\n",
              "      <td>49.117623</td>\n",
              "      <td>6.179245</td>\n",
              "      <td>449713.105979</td>\n",
              "      <td>5.461630e+06</td>\n",
              "      <td>0</td>\n",
              "      <td>0</td>\n",
              "    </tr>\n",
              "    <tr>\n",
              "      <th>0</th>\n",
              "      <td>Pêcheur</td>\n",
              "      <td>Martin</td>\n",
              "      <td>25 rue Bellevue</td>\n",
              "      <td>57950</td>\n",
              "      <td>Montigny-les-Metz</td>\n",
              "      <td>24</td>\n",
              "      <td>642905228</td>\n",
              "      <td>code 0849</td>\n",
              "      <td>49.102401</td>\n",
              "      <td>6.143209</td>\n",
              "      <td>447227.671124</td>\n",
              "      <td>5.459938e+06</td>\n",
              "      <td>1</td>\n",
              "      <td>2</td>\n",
              "    </tr>\n",
              "  </tbody>\n",
              "</table>\n",
              "</div>"
            ]
          },
          "metadata": {}
        }
      ],
      "execution_count": 12,
      "metadata": {
        "execution": {
          "iopub.status.busy": "2020-04-18T21:42:27.539Z",
          "iopub.execute_input": "2020-04-18T21:42:27.541Z",
          "iopub.status.idle": "2020-04-18T21:42:27.549Z",
          "shell.execute_reply": "2020-04-18T21:42:27.581Z"
        }
      }
    },
    {
      "cell_type": "code",
      "source": [
        "folium_map = folium.Map(location=[final_client['latitude'].mean(), \n",
        "                                    final_client['longitude'].mean()], \n",
        "                                    zoom_start=10, tiles='OpenStreetMap')\n",
        "\n",
        "folium.plugins.BoatMarker([final_client.iloc[0]['latitude'], final_client.iloc[0]['longitude']]).add_to(folium_map)\n",
        "\n",
        "Tournee_group=[]\n",
        "\n",
        "for number, tournee in zip(range(len(tournees)),tournees):\n",
        "\n",
        "    Tournee = FeatureGroup(name='Tournee'+str(int(number)))\n",
        "    for i in range(1,len(tournee)):\n",
        "\n",
        "        url='https://www.google.fr/maps/dir//' + \\\n",
        "        str(tournee.iloc[i]['latitude'])+ ',' + str(tournee.iloc[i]['longitude'])\n",
        "        address = str(tournee.iloc[i]['Adresse']) + \", \" + str(tournee.iloc[i]['CP']) + \", \" + str(tournee.iloc[i]['Ville'])\n",
        "        nom_prenom = str(tournee.iloc[i]['Nom']) + '\\t' + str(tournee.iloc[i]['Prénom'])\n",
        "        tel = '0' + str(tournee.iloc[i]['Tel'])\n",
        "        colis = str(tournee.iloc[i]['Qté totale']) + ' bieres'\n",
        "        commentaires = str(tournee.iloc[i]['Commentaires'])\n",
        "        lien = '<a href=' + url + '> Maps </a>'\n",
        "\n",
        "        popup_name = '<b>' + nom_prenom + '</b>' + '<br>' + str(address) + '<br>'  + tel + '<br>' + colis + '<br>' + commentaires + '<br>' + lien\n",
        "\n",
        "        popup = folium.Popup(popup_name, max_width=650)\n",
        "\n",
        "        icon_order = DivIcon(\n",
        "            icon_size=(150,36),\n",
        "            icon_anchor=(0,0),\n",
        "            html='<div style=\"font-size: 14pt\">' + str(int(tournee.iloc[i]['order'])) + '</div>',\n",
        "            )\n",
        "\n",
        "        if number == 0:\n",
        "            icon = folium.map.Icon(color='blue')\n",
        "        if number == 1:\n",
        "            icon = folium.map.Icon(color='green')\n",
        "        if number == 2:\n",
        "            icon = folium.map.Icon(color='red')\n",
        "        if number == 3:\n",
        "            icon = folium.map.Icon(color='orange')\n",
        "        \n",
        "        folium.Marker([tournee.iloc[i]['latitude'], tournee.iloc[i]['longitude']], icon=icon_order).add_to(Tournee)\n",
        "        folium.Marker([tournee.iloc[i]['latitude'], tournee.iloc[i]['longitude']], icon=icon, popup=popup).add_to(Tournee)\n",
        "        Tournee_group.append(Tournee)\n",
        "                           \n",
        "for tournee in Tournee_group:\n",
        "        folium_map.add_child(tournee)\n",
        "                           \n",
        "    #FastMarkerCluster(data=list(zip(df['latitude'].values, df['longitude'].values)), popup=df['addresse_tot']).add_to(folium_map)\n",
        "\n",
        "    #folium_map.add_child(feature_group)\n",
        "folium.LayerControl().add_to(folium_map)\n",
        "folium_map.save(\"map_tournees.html\")\n",
        "folium_map"
      ],
      "outputs": [
        {
          "output_type": "execute_result",
          "execution_count": 13,
          "data": {
            "text/plain": [
              "<folium.folium.Map at 0x12f84ec10>"
            ],
            "text/html": [
              "<div style=\"width:100%;\"><div style=\"position:relative;width:100%;height:0;padding-bottom:60%;\"><iframe src=\"about:blank\" style=\"position:absolute;width:100%;height:100%;left:0;top:0;border:none !important;\" data-html=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 onload=\"this.contentDocument.open();this.contentDocument.write(atob(this.getAttribute('data-html')));this.contentDocument.close();\" allowfullscreen webkitallowfullscreen mozallowfullscreen></iframe></div></div>"
            ]
          },
          "metadata": {}
        }
      ],
      "execution_count": 13,
      "metadata": {
        "execution": {
          "iopub.status.busy": "2020-04-18T21:42:27.555Z",
          "iopub.execute_input": "2020-04-18T21:42:27.557Z",
          "iopub.status.idle": "2020-04-18T21:42:27.649Z",
          "shell.execute_reply": "2020-04-18T21:42:27.583Z"
        }
      }
    },
    {
      "cell_type": "code",
      "source": [],
      "outputs": [],
      "execution_count": null,
      "metadata": {}
    },
    {
      "cell_type": "code",
      "source": [],
      "outputs": [],
      "execution_count": null,
      "metadata": {}
    }
  ],
  "metadata": {
    "kernelspec": {
      "display_name": "Python 3",
      "language": "python",
      "name": "python3"
    },
    "language_info": {
      "name": "python",
      "version": "3.7.7",
      "mimetype": "text/x-python",
      "codemirror_mode": {
        "name": "ipython",
        "version": 3
      },
      "pygments_lexer": "ipython3",
      "nbconvert_exporter": "python",
      "file_extension": ".py"
    },
    "nteract": {
      "version": "0.22.4"
    }
  },
  "nbformat": 4,
  "nbformat_minor": 4
}